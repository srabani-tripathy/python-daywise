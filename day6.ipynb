{
 "cells": [
  {
   "cell_type": "markdown",
   "id": "690afbf2",
   "metadata": {},
   "source": [
    "take one dict from user side total 5 pairs. key should be name and values should be marks . (1) highest score and student name . (2) based on score arrange key and value in asec . (3) get one name from user side check the name is already present or not ,if not present  the ask value and upadte that value to the dict.(4) remove least score pair"
   ]
  },
  {
   "cell_type": "code",
   "execution_count": 1,
   "id": "8d594031",
   "metadata": {},
   "outputs": [
    {
     "name": "stdout",
     "output_type": "stream",
     "text": [
      "max_key-value pair srabani 300\n",
      "min_key-value pair xyz 100\n",
      "sorted dict {'xyz': 100, 'arpita': 200, 'srabani': 300}\n",
      "{'srabani': 300, 'arpita': 200}\n"
     ]
    }
   ],
   "source": [
    "d={}\n",
    "s=int(input(\"enter the number of keys\"))\n",
    "for _ in range(s):\n",
    "    a=input(\"enter the key value\")\n",
    "    b=input(\"enter value\")\n",
    "    d[a]=int(b)\n",
    "\n",
    "max_key = None\n",
    "max_value = float(\"-inf\")\n",
    "min_key = None\n",
    "min_value = float(\"inf\")\n",
    "for a,b in d.items():\n",
    "    if b > max_value:\n",
    "        max_value = b\n",
    "        max_key = a\n",
    "    else:\n",
    "        if b < min_value:\n",
    "            min_value =b\n",
    "            min_key = a\n",
    "print(\"max_key-value pair\", max_key,max_value)\n",
    "print(\"min_key-value pair\", min_key,min_value)\n",
    "\n",
    "items = list(d.items())\n",
    "n=len(items)\n",
    "for i in range(n):\n",
    "    for j in range(0,n-i-1):\n",
    "        if items[j][1] > items[j+1][1]:\n",
    "            items[j], items[j+1] = items[j+1], items[j] \n",
    "sorted_items =dict(items) \n",
    "print(\"sorted dict\" , sorted_items)  \n",
    "\n",
    "del d[min_key]\n",
    "print(d)"
   ]
  },
  {
   "cell_type": "markdown",
   "id": "9c88596f",
   "metadata": {},
   "source": [
    "### upper()\n"
   ]
  },
  {
   "cell_type": "code",
   "execution_count": 3,
   "id": "beb5b705",
   "metadata": {},
   "outputs": [
    {
     "name": "stdout",
     "output_type": "stream",
     "text": [
      "KIIT\n"
     ]
    }
   ],
   "source": [
    "s='kiit'\n",
    "print(s.upper())"
   ]
  },
  {
   "cell_type": "markdown",
   "id": "89346081",
   "metadata": {},
   "source": [
    "### lower()"
   ]
  },
  {
   "cell_type": "code",
   "execution_count": 4,
   "id": "488574f1",
   "metadata": {},
   "outputs": [
    {
     "name": "stdout",
     "output_type": "stream",
     "text": [
      "kiit\n"
     ]
    }
   ],
   "source": [
    "s='kiit'\n",
    "print(s.lower())"
   ]
  },
  {
   "cell_type": "markdown",
   "id": "60a90d42",
   "metadata": {},
   "source": [
    "### islower()"
   ]
  },
  {
   "cell_type": "code",
   "execution_count": 5,
   "id": "0bc9dce2",
   "metadata": {},
   "outputs": [
    {
     "name": "stdout",
     "output_type": "stream",
     "text": [
      "True\n"
     ]
    }
   ],
   "source": [
    "s='kiit'\n",
    "print(s.islower())"
   ]
  },
  {
   "cell_type": "markdown",
   "id": "95804a6b",
   "metadata": {},
   "source": [
    "### isupper()"
   ]
  },
  {
   "cell_type": "code",
   "execution_count": 6,
   "id": "ee91f419",
   "metadata": {},
   "outputs": [
    {
     "name": "stdout",
     "output_type": "stream",
     "text": [
      "False\n"
     ]
    }
   ],
   "source": [
    "s='kiit'\n",
    "print(s.isupper())"
   ]
  },
  {
   "cell_type": "markdown",
   "id": "74c4dc75",
   "metadata": {},
   "source": [
    "### capitalize()"
   ]
  },
  {
   "cell_type": "code",
   "execution_count": 8,
   "id": "34ab08cd",
   "metadata": {},
   "outputs": [
    {
     "name": "stdout",
     "output_type": "stream",
     "text": [
      "My name is srabani\n"
     ]
    }
   ],
   "source": [
    "s='my name is srabani'\n",
    "print(s.capitalize())"
   ]
  },
  {
   "cell_type": "markdown",
   "id": "275de13b",
   "metadata": {},
   "source": [
    "### title()"
   ]
  },
  {
   "cell_type": "code",
   "execution_count": 10,
   "id": "d08edb28",
   "metadata": {},
   "outputs": [
    {
     "name": "stdout",
     "output_type": "stream",
     "text": [
      "My Name Is Srabani\n"
     ]
    }
   ],
   "source": [
    "s='my name is srabani'\n",
    "print(s.title())"
   ]
  },
  {
   "cell_type": "markdown",
   "id": "b01316b0",
   "metadata": {},
   "source": [
    "### swapcase()"
   ]
  },
  {
   "cell_type": "code",
   "execution_count": 14,
   "id": "87b20423",
   "metadata": {},
   "outputs": [
    {
     "name": "stdout",
     "output_type": "stream",
     "text": [
      "MY nameE IS SRABANI\n"
     ]
    }
   ],
   "source": [
    "s='my NAMEe is srabani'\n",
    "print(s.swapcase())"
   ]
  },
  {
   "cell_type": "markdown",
   "id": "6ee7ab45",
   "metadata": {},
   "source": [
    "### count()"
   ]
  },
  {
   "cell_type": "code",
   "execution_count": 19,
   "id": "739fa706",
   "metadata": {},
   "outputs": [
    {
     "name": "stdout",
     "output_type": "stream",
     "text": [
      "3\n"
     ]
    }
   ],
   "source": [
    "s='my name is srabani'\n",
    "print(s.count('a'))"
   ]
  },
  {
   "cell_type": "markdown",
   "id": "bad1152b",
   "metadata": {},
   "source": [
    "### index()"
   ]
  },
  {
   "cell_type": "markdown",
   "id": "2ba8cc1f",
   "metadata": {},
   "source": [
    "if the value is not present it will return value error"
   ]
  },
  {
   "cell_type": "code",
   "execution_count": null,
   "id": "aaddc5d8",
   "metadata": {},
   "outputs": [
    {
     "name": "stdout",
     "output_type": "stream",
     "text": [
      "4\n"
     ]
    }
   ],
   "source": [
    "s='my name is srabani'\n",
    "print(s.index('a'))"
   ]
  },
  {
   "cell_type": "markdown",
   "id": "b3976ab3",
   "metadata": {},
   "source": [
    "### find()"
   ]
  },
  {
   "cell_type": "markdown",
   "id": "23d8e496",
   "metadata": {},
   "source": [
    "used to find the index for particular char"
   ]
  },
  {
   "cell_type": "code",
   "execution_count": 27,
   "id": "2aff1d69",
   "metadata": {},
   "outputs": [
    {
     "name": "stdout",
     "output_type": "stream",
     "text": [
      "9\n"
     ]
    }
   ],
   "source": [
    "s='my name is srabani'\n",
    "print(s.find('s'))"
   ]
  },
  {
   "cell_type": "markdown",
   "id": "8cc26479",
   "metadata": {},
   "source": [
    "### Replace()"
   ]
  },
  {
   "cell_type": "code",
   "execution_count": 29,
   "id": "52e6a20e",
   "metadata": {},
   "outputs": [
    {
     "name": "stdout",
     "output_type": "stream",
     "text": [
      "my name is srabani\n"
     ]
    }
   ],
   "source": [
    "s='my nameee is srabani'\n",
    "print(s.replace('eee','e'))"
   ]
  },
  {
   "cell_type": "markdown",
   "id": "f8658f5c",
   "metadata": {},
   "source": [
    "### strip"
   ]
  },
  {
   "cell_type": "markdown",
   "id": "e2230474",
   "metadata": {},
   "source": [
    "strip used to remove empty space and values at the beginning and end of the string but not in between"
   ]
  },
  {
   "cell_type": "code",
   "execution_count": 51,
   "id": "13f2cf54",
   "metadata": {},
   "outputs": [
    {
     "name": "stdout",
     "output_type": "stream",
     "text": [
      "my name is srabani\n"
     ]
    }
   ],
   "source": [
    "s='  my name is srabani  '\n",
    "print(s.strip())"
   ]
  },
  {
   "cell_type": "code",
   "execution_count": 56,
   "id": "a8e8649f",
   "metadata": {},
   "outputs": [
    {
     "name": "stdout",
     "output_type": "stream",
     "text": [
      "raaaaaabaaaaaaani\n"
     ]
    }
   ],
   "source": [
    "s='sssssraaaaaabaaaaaaani'\n",
    "print(s.strip('s'))"
   ]
  },
  {
   "cell_type": "markdown",
   "id": "ccf8d6e3",
   "metadata": {},
   "source": [
    "### lstrip()"
   ]
  },
  {
   "cell_type": "markdown",
   "id": "817ecd14",
   "metadata": {},
   "source": [
    "removes from left side of string"
   ]
  },
  {
   "cell_type": "code",
   "execution_count": 40,
   "id": "a27d3858",
   "metadata": {},
   "outputs": [
    {
     "name": "stdout",
     "output_type": "stream",
     "text": [
      " name is srabani\n"
     ]
    }
   ],
   "source": [
    "s='my name is srabani'\n",
    "print(s.lstrip('ym'))"
   ]
  },
  {
   "cell_type": "markdown",
   "id": "667ae5e1",
   "metadata": {},
   "source": [
    "### removeprifix()"
   ]
  },
  {
   "cell_type": "code",
   "execution_count": 55,
   "id": "fa6d22b0",
   "metadata": {},
   "outputs": [
    {
     "name": "stdout",
     "output_type": "stream",
     "text": [
      "my name is srabani\n"
     ]
    }
   ],
   "source": [
    "s='mmmy name is srabani'\n",
    "print(s.removeprefix('mm'))"
   ]
  },
  {
   "cell_type": "code",
   "execution_count": 57,
   "id": "ce3ff15e",
   "metadata": {},
   "outputs": [
    {
     "name": "stdout",
     "output_type": "stream",
     "text": [
      "ssssraaaaaabaaaaaaani\n"
     ]
    }
   ],
   "source": [
    "s='sssssraaaaaabaaaaaaani'\n",
    "print(s.removeprefix('s'))"
   ]
  },
  {
   "cell_type": "markdown",
   "id": "a67ab9e6",
   "metadata": {},
   "source": [
    "### spilt()"
   ]
  },
  {
   "cell_type": "code",
   "execution_count": 77,
   "id": "c7608d9a",
   "metadata": {},
   "outputs": [
    {
     "name": "stdout",
     "output_type": "stream",
     "text": [
      "['Today', 'is', 'goooddd', 'day']\n",
      "['T', 'ay is goo', 'dd day']\n"
     ]
    }
   ],
   "source": [
    "s= \"Today is goooddd day\"\n",
    "print(s.split())\n",
    "\n",
    "s = \"Today is goooddd day\"\n",
    "print(s.split('od'))\n"
   ]
  },
  {
   "cell_type": "markdown",
   "id": "e0e3ce23",
   "metadata": {},
   "source": [
    "which word is having maximum length"
   ]
  },
  {
   "cell_type": "code",
   "execution_count": null,
   "id": "0494011d",
   "metadata": {},
   "outputs": [
    {
     "name": "stdout",
     "output_type": "stream",
     "text": [
      "tripathy\n"
     ]
    }
   ],
   "source": [
    "s=input(\"enter a string\")\n",
    "a=s.split()\n",
    "c=max(a , key=len)\n",
    "print(c)"
   ]
  },
  {
   "cell_type": "markdown",
   "id": "d20bb34e",
   "metadata": {},
   "source": [
    "### join()"
   ]
  },
  {
   "cell_type": "markdown",
   "id": "613c0474",
   "metadata": {},
   "source": [
    "used to join all the values"
   ]
  },
  {
   "cell_type": "markdown",
   "id": "6ccea7d0",
   "metadata": {},
   "source": [
    "return type of join is new string"
   ]
  },
  {
   "cell_type": "code",
   "execution_count": 88,
   "id": "ed60877e",
   "metadata": {},
   "outputs": [
    {
     "name": "stdout",
     "output_type": "stream",
     "text": [
      "['Today', 'is', 'a', 'good', 'day'] Today###is###a###good###day\n"
     ]
    }
   ],
   "source": [
    "s= \"Today is a good day\"\n",
    "a=s.split()\n",
    "print(a,\"###\".join(a))\n"
   ]
  },
  {
   "cell_type": "code",
   "execution_count": 104,
   "id": "0349176d",
   "metadata": {},
   "outputs": [],
   "source": [
    "# i/p ='today is a good day\n",
    "#o/p = yaddo og a is yadoT\n",
    "\n",
    "\n",
    "#i/p =\"hello! python ai machine learning\"\n",
    "#o/p = \"gninra elenih ca mianoht yp!olleh\""
   ]
  },
  {
   "cell_type": "markdown",
   "id": "e167c3b0",
   "metadata": {},
   "source": [
    "# Functions"
   ]
  },
  {
   "cell_type": "markdown",
   "id": "529b256f",
   "metadata": {},
   "source": [
    "It ia a block of code which is used for code reusability"
   ]
  },
  {
   "cell_type": "markdown",
   "id": "ebc17388",
   "metadata": {},
   "source": [
    "default return type is none if we are not using default keyword"
   ]
  },
  {
   "cell_type": "code",
   "execution_count": 114,
   "id": "49248302",
   "metadata": {},
   "outputs": [
    {
     "name": "stdout",
     "output_type": "stream",
     "text": [
      "5\n",
      "None\n"
     ]
    }
   ],
   "source": [
    "a=int(input())\n",
    "b=int(input())\n",
    "def function_name(a,b):\n",
    "    print(a+b)\n",
    "a = function_name(a,b)    \n",
    "print(a)"
   ]
  },
  {
   "cell_type": "code",
   "execution_count": 115,
   "id": "bc833996",
   "metadata": {},
   "outputs": [
    {
     "name": "stdout",
     "output_type": "stream",
     "text": [
      "5\n"
     ]
    }
   ],
   "source": [
    "a=int(input())\n",
    "b=int(input())\n",
    "def function_name(a,b):\n",
    "    c=a+b\n",
    "    return c\n",
    "a = function_name(a,b)    \n",
    "print(a)"
   ]
  },
  {
   "cell_type": "code",
   "execution_count": 116,
   "id": "0bb81a90",
   "metadata": {},
   "outputs": [
    {
     "name": "stdout",
     "output_type": "stream",
     "text": [
      "[2, 3, 5]\n"
     ]
    }
   ],
   "source": [
    "a=int(input())\n",
    "b=int(input())\n",
    "def function_name(a,b):\n",
    "    c=a+b\n",
    "    return [a,b,c]\n",
    "a = function_name(a,b)    \n",
    "print(a)"
   ]
  },
  {
   "cell_type": "markdown",
   "id": "a6525cff",
   "metadata": {},
   "source": [
    "### Types of functions"
   ]
  },
  {
   "cell_type": "markdown",
   "id": "72f059ea",
   "metadata": {},
   "source": [
    "### 1) User defined"
   ]
  },
  {
   "cell_type": "markdown",
   "id": "0ab61e9f",
   "metadata": {},
   "source": [
    "### 2) Built -in functions"
   ]
  },
  {
   "cell_type": "markdown",
   "id": "23a5ab7a",
   "metadata": {},
   "source": [
    "### 3) Miscellaneous function"
   ]
  },
  {
   "cell_type": "markdown",
   "id": "e64bd8e5",
   "metadata": {},
   "source": [
    "### 4) Anonoymous functions"
   ]
  },
  {
   "cell_type": "code",
   "execution_count": 117,
   "id": "a07f4063",
   "metadata": {},
   "outputs": [],
   "source": [
    "#with arg with return\n",
    "# with arg without return\n",
    "# without argument with return\n",
    "# without arg without return"
   ]
  },
  {
   "cell_type": "code",
   "execution_count": null,
   "id": "a889c512",
   "metadata": {},
   "outputs": [],
   "source": [
    "a=int(input())\n",
    "b=int(input())\n",
    "def function_name(a,b):\n",
    "    c=a+b\n",
    "    return c\n",
    "a = function_name(a,b)    \n",
    "print(a)"
   ]
  },
  {
   "cell_type": "code",
   "execution_count": 118,
   "id": "107c9e94",
   "metadata": {},
   "outputs": [
    {
     "name": "stdout",
     "output_type": "stream",
     "text": [
      "None\n"
     ]
    }
   ],
   "source": [
    "a=int(input())\n",
    "b=int(input())\n",
    "def function_name(a,b):\n",
    "    c=a+b\n",
    "a = function_name(a,b)    \n",
    "print(a)"
   ]
  },
  {
   "cell_type": "code",
   "execution_count": null,
   "id": "f9d92249",
   "metadata": {},
   "outputs": [
    {
     "ename": "TypeError",
     "evalue": "function_name() missing 2 required positional arguments: 'a' and 'b'",
     "output_type": "error",
     "traceback": [
      "\u001b[31m---------------------------------------------------------------------------\u001b[39m",
      "\u001b[31mTypeError\u001b[39m                                 Traceback (most recent call last)",
      "\u001b[36mCell\u001b[39m\u001b[36m \u001b[39m\u001b[32mIn[121]\u001b[39m\u001b[32m, line 6\u001b[39m\n\u001b[32m      4\u001b[39m     c=a+b\n\u001b[32m      5\u001b[39m     \u001b[38;5;28;01mreturn\u001b[39;00m c\n\u001b[32m----> \u001b[39m\u001b[32m6\u001b[39m a = function_name()    \n\u001b[32m      7\u001b[39m \u001b[38;5;28mprint\u001b[39m(a)\n",
      "\u001b[31mTypeError\u001b[39m: function_name() missing 2 required positional arguments: 'a' and 'b'"
     ]
    }
   ],
   "source": [
    "a=int(input())\n",
    "b=int(input())\n",
    "def function_name(a,b):\n",
    "    c=a+b\n",
    "    return c\n",
    "a = function_name()    \n",
    "print(a)"
   ]
  },
  {
   "cell_type": "code",
   "execution_count": 120,
   "id": "e003c838",
   "metadata": {},
   "outputs": [
    {
     "name": "stdout",
     "output_type": "stream",
     "text": [
      "None\n"
     ]
    }
   ],
   "source": [
    "a=int(input())\n",
    "b=int(input())\n",
    "def function_name():\n",
    "    c=a+b\n",
    "a = function_name()    \n",
    "print(a)"
   ]
  },
  {
   "cell_type": "code",
   "execution_count": null,
   "id": "f34ef253",
   "metadata": {},
   "outputs": [
    {
     "name": "stdout",
     "output_type": "stream",
     "text": [
      "[2, 3, 5]\n"
     ]
    }
   ],
   "source": [
    "a=int(input())\n",
    "b=int(input())\n",
    "def function_name():\n",
    "    c=a+b\n",
    "    return [a,b,c]\n",
    "    print(\"srabani\")  # after return , rest of the lines will not execute INSIDE the function.\n",
    "a = function_name()    \n",
    "print(a)"
   ]
  },
  {
   "cell_type": "markdown",
   "id": "f8fe0876",
   "metadata": {},
   "source": [
    "## Types of arguments"
   ]
  },
  {
   "cell_type": "markdown",
   "id": "06c4bf7f",
   "metadata": {},
   "source": [
    "### 1) Positional Argument"
   ]
  },
  {
   "cell_type": "markdown",
   "id": "c8550077",
   "metadata": {},
   "source": [
    "match the arguments with return value"
   ]
  },
  {
   "cell_type": "code",
   "execution_count": 127,
   "id": "118ee73c",
   "metadata": {},
   "outputs": [
    {
     "name": "stdout",
     "output_type": "stream",
     "text": [
      "(10, 20)\n"
     ]
    }
   ],
   "source": [
    "def example(a,b):\n",
    "    return a,b\n",
    "print(example(10,20))"
   ]
  },
  {
   "cell_type": "markdown",
   "id": "b1b44beb",
   "metadata": {},
   "source": [
    "### Default Argument"
   ]
  },
  {
   "cell_type": "markdown",
   "id": "2e2a2df1",
   "metadata": {},
   "source": [
    "default argument can follow positional agruemnet but positional agrument cannot follow default argument"
   ]
  },
  {
   "cell_type": "code",
   "execution_count": null,
   "id": "2d039f30",
   "metadata": {},
   "outputs": [
    {
     "ename": "SyntaxError",
     "evalue": "non-default argument follows default argument (2047294409.py, line 1)",
     "output_type": "error",
     "traceback": [
      "  \u001b[36mCell\u001b[39m\u001b[36m \u001b[39m\u001b[32mIn[128]\u001b[39m\u001b[32m, line 1\u001b[39m\n\u001b[31m    \u001b[39m\u001b[31mdef fun(b=10,a):\u001b[39m\n                 ^\n\u001b[31mSyntaxError\u001b[39m\u001b[31m:\u001b[39m non-default argument follows default argument\n"
     ]
    }
   ],
   "source": [
    "def fun(b=10,a):\n",
    "    print(a,b)\n",
    "fun1(100,1)    #syntaxError: non-default argument follows default argument"
   ]
  },
  {
   "cell_type": "markdown",
   "id": "bca5506f",
   "metadata": {},
   "source": [
    "### Keyword Arguemnt"
   ]
  },
  {
   "cell_type": "markdown",
   "id": "f3290a00",
   "metadata": {},
   "source": [
    "positional  argument follows keyword argument"
   ]
  },
  {
   "cell_type": "code",
   "execution_count": null,
   "id": "f997ecc6",
   "metadata": {},
   "outputs": [
    {
     "ename": "SyntaxError",
     "evalue": "positional argument follows keyword argument (160748298.py, line 3)",
     "output_type": "error",
     "traceback": [
      "  \u001b[36mCell\u001b[39m\u001b[36m \u001b[39m\u001b[32mIn[129]\u001b[39m\u001b[32m, line 3\u001b[39m\n\u001b[31m    \u001b[39m\u001b[31mfun1(b=10,c=20,30)\u001b[39m\n                     ^\n\u001b[31mSyntaxError\u001b[39m\u001b[31m:\u001b[39m positional argument follows keyword argument\n"
     ]
    }
   ],
   "source": [
    "def fun1(a,b,c):\n",
    "    print(a,b,c)\n",
    "fun1(b=10,c=20,30) #SyntaxError: positional argument follows keyword argument   "
   ]
  },
  {
   "cell_type": "markdown",
   "id": "d66dbb63",
   "metadata": {},
   "source": [
    "### Arbitary variable(*args)"
   ]
  },
  {
   "cell_type": "markdown",
   "id": "477e9696",
   "metadata": {},
   "source": [
    "with the help of * we can receive all the arguments together -->returns in the form of tuple"
   ]
  },
  {
   "cell_type": "code",
   "execution_count": null,
   "id": "494a9f89",
   "metadata": {},
   "outputs": [
    {
     "ename": "TypeError",
     "evalue": "fun() takes 1 positional argument but 7 were given",
     "output_type": "error",
     "traceback": [
      "\u001b[31m---------------------------------------------------------------------------\u001b[39m",
      "\u001b[31mTypeError\u001b[39m                                 Traceback (most recent call last)",
      "\u001b[36mCell\u001b[39m\u001b[36m \u001b[39m\u001b[32mIn[130]\u001b[39m\u001b[32m, line 3\u001b[39m\n\u001b[32m      1\u001b[39m \u001b[38;5;28;01mdef\u001b[39;00m\u001b[38;5;250m \u001b[39m\u001b[34mfun\u001b[39m(values):\n\u001b[32m      2\u001b[39m     \u001b[38;5;28mprint\u001b[39m(values)\n\u001b[32m----> \u001b[39m\u001b[32m3\u001b[39m fun(\u001b[32m10\u001b[39m,\u001b[32m20\u001b[39m,\u001b[32m30\u001b[39m,\u001b[32m40\u001b[39m,\u001b[32m50\u001b[39m,\u001b[32m60\u001b[39m,\u001b[32m70\u001b[39m)\n",
      "\u001b[31mTypeError\u001b[39m: fun() takes 1 positional argument but 7 were given"
     ]
    }
   ],
   "source": [
    "def fun(values): # there is no *\n",
    "    print(values)\n",
    "fun(10,20,30,40,50,60,70)    "
   ]
  },
  {
   "cell_type": "code",
   "execution_count": 132,
   "id": "a1e199e7",
   "metadata": {},
   "outputs": [
    {
     "name": "stdout",
     "output_type": "stream",
     "text": [
      "(10, 20, 30, 40, 50, 60, 70)\n"
     ]
    }
   ],
   "source": [
    "def fun(*values): # there is no *\n",
    "    print(values)\n",
    "fun(10,20,30,40,50,60,70)  "
   ]
  },
  {
   "cell_type": "markdown",
   "id": "6c9cb711",
   "metadata": {},
   "source": [
    "### Arbitary Keyword(**args)"
   ]
  },
  {
   "cell_type": "markdown",
   "id": "6904ed33",
   "metadata": {},
   "source": [
    "same as (*args) but here the return in the form of dict"
   ]
  },
  {
   "cell_type": "code",
   "execution_count": 136,
   "id": "3eca1f9b",
   "metadata": {},
   "outputs": [
    {
     "name": "stdout",
     "output_type": "stream",
     "text": [
      "{'a': 10, 'b': 20, 'c': 30}\n"
     ]
    }
   ],
   "source": [
    "def fun(**values): \n",
    "    print(values)\n",
    "fun(a=10,b=20,c=30)  "
   ]
  }
 ],
 "metadata": {
  "kernelspec": {
   "display_name": "python_capgemini",
   "language": "python",
   "name": "python3"
  },
  "language_info": {
   "codemirror_mode": {
    "name": "ipython",
    "version": 3
   },
   "file_extension": ".py",
   "mimetype": "text/x-python",
   "name": "python",
   "nbconvert_exporter": "python",
   "pygments_lexer": "ipython3",
   "version": "3.11.11"
  }
 },
 "nbformat": 4,
 "nbformat_minor": 5
}

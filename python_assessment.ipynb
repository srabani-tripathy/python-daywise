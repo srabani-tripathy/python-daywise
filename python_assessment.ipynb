{
 "cells": [
  {
   "cell_type": "code",
   "execution_count": 2,
   "id": "e027b587",
   "metadata": {},
   "outputs": [
    {
     "name": "stdout",
     "output_type": "stream",
     "text": [
      "20% discount applied\n",
      "total amount: 2764.8\n"
     ]
    }
   ],
   "source": [
    "n=int(input('enter total amount: '))\n",
    "if n>=1000:\n",
    "    n=n-(n*0.2)\n",
    "    print('20% discount applied')\n",
    "elif n>=500 and n<=1000:\n",
    "    n=n-(n*0.1)\n",
    "    print('10% discount applied')\n",
    "else:\n",
    "    print('no discount')\n",
    "print('total amount:',n)\n"
   ]
  },
  {
   "cell_type": "code",
   "execution_count": 8,
   "id": "a7d4fe74",
   "metadata": {},
   "outputs": [
    {
     "name": "stdout",
     "output_type": "stream",
     "text": [
      "fail\n"
     ]
    }
   ],
   "source": [
    "marks=int(input('enter marks out of 100: '))\n",
    "if marks>=90 and marks<=100:\n",
    "    print('grade A')\n",
    "elif marks>=70 and marks<89:\n",
    "    print('grade B')\n",
    "elif marks>=50 and marks<69:\n",
    "    print('grade C')\n",
    "else:\n",
    "    print('fail')\n"
   ]
  },
  {
   "cell_type": "code",
   "execution_count": 9,
   "id": "401ab758",
   "metadata": {},
   "outputs": [
    {
     "name": "stdout",
     "output_type": "stream",
     "text": [
      "adult\n"
     ]
    }
   ],
   "source": [
    "age=int(input('enter age: '))\n",
    "if age<13:\n",
    "    print('child')\n",
    "elif age>=13 and age<=19:\n",
    "    print('teenager')\n",
    "elif age>=20 and age<=59:\n",
    "    print('adult')\n",
    "else:\n",
    "    print('senior')\n"
   ]
  },
  {
   "cell_type": "code",
   "execution_count": 10,
   "id": "9264f5a5",
   "metadata": {},
   "outputs": [
    {
     "name": "stdout",
     "output_type": "stream",
     "text": [
      "even and not divisible by 5\n"
     ]
    }
   ],
   "source": [
    "n=int(input('enter number: '))\n",
    "if n%2==0 and n%5==0:\n",
    "    print('even and divisible by 5')\n",
    "elif n%2!=0 and n%5==0:\n",
    "    print('odd and divisible by 5')\n",
    "elif n%2==0 and n%5!=0:\n",
    "    print('even and not divisible by 5')\n",
    "elif n%2!=0 and n%5!=0:\n",
    "    print('odd and not divisible by 5')\n"
   ]
  },
  {
   "cell_type": "code",
   "execution_count": 11,
   "id": "d49ae1fc",
   "metadata": {},
   "outputs": [
    {
     "name": "stdout",
     "output_type": "stream",
     "text": [
      "invalid\n"
     ]
    }
   ],
   "source": [
    "username=input('enter username: ')\n",
    "s='john amy sita'\n",
    "if username in s:\n",
    "    print('valid')\n",
    "else:\n",
    "    print('invalid')\n"
   ]
  },
  {
   "cell_type": "code",
   "execution_count": 12,
   "id": "aa6eaeb8",
   "metadata": {},
   "outputs": [
    {
     "name": "stdout",
     "output_type": "stream",
     "text": [
      "2nd number is greater\n"
     ]
    }
   ],
   "source": [
    "n=int(input('enter 1st number: '))\n",
    "m=int(input('enter 2nd number: '))\n",
    "if n>m:\n",
    "    print('1st number is greater')\n",
    "elif n<m:\n",
    "    print('2nd number is greater')\n",
    "elif n==m:\n",
    "    print('both are equal')\n"
   ]
  },
  {
   "cell_type": "code",
   "execution_count": 13,
   "id": "2ad41167",
   "metadata": {},
   "outputs": [
    {
     "name": "stdout",
     "output_type": "stream",
     "text": [
      "eligible for driving\n"
     ]
    }
   ],
   "source": [
    "age=int(input('enter age: '))\n",
    "if age>=18 and age<21:\n",
    "    print('eligible for voting')\n",
    "elif age>=21:\n",
    "    print('eligible for driving')\n"
   ]
  },
  {
   "cell_type": "code",
   "execution_count": 14,
   "id": "ba08c6a7",
   "metadata": {},
   "outputs": [
    {
     "name": "stdout",
     "output_type": "stream",
     "text": [
      "leap year\n"
     ]
    }
   ],
   "source": [
    "year=int(input('enter year: '))\n",
    "if year%4==0 and year%100!=0 or year%400==0:\n",
    "    print('leap year')\n",
    "else:\n",
    "    print('not leap year')\n"
   ]
  },
  {
   "cell_type": "code",
   "execution_count": 15,
   "id": "848c122e",
   "metadata": {},
   "outputs": [
    {
     "name": "stdout",
     "output_type": "stream",
     "text": [
      "login successful\n"
     ]
    }
   ],
   "source": [
    "username=input('enter username: ')\n",
    "s='admin manager'\n",
    "if username in s:\n",
    "    print('login successful')\n",
    "else:\n",
    "    print('login failed')\n"
   ]
  },
  {
   "cell_type": "code",
   "execution_count": 16,
   "id": "5738e425",
   "metadata": {},
   "outputs": [
    {
     "name": "stdout",
     "output_type": "stream",
     "text": [
      "invalid option\n"
     ]
    }
   ],
   "source": [
    "n=int(input('enter 1st number: '))\n",
    "m=int(input('enter 2nd number: '))\n",
    "option=input('enter option: \\n1.+ for addition \\n2. - for subtraction \\n3. * for multiplication \\n4./ for division \\n')\n",
    "match option:\n",
    "    case '+':\n",
    "        print('addition:',n+m)\n",
    "    case '-':\n",
    "        print('subtraction:',n-m)\n",
    "    case '*':\n",
    "        print('multiplication:',n*m)\n",
    "    case '/':\n",
    "        if m!=0:\n",
    "            print('division:',n/m)\n",
    "        else:\n",
    "            print('division by zero not possible')\n",
    "    case _:\n",
    "        print('invalid option')\n"
   ]
  },
  {
   "cell_type": "code",
   "execution_count": 17,
   "id": "53737b23",
   "metadata": {},
   "outputs": [
    {
     "name": "stdout",
     "output_type": "stream",
     "text": [
      "heat alert\n"
     ]
    }
   ],
   "source": [
    "temp=int(input('enter temperature in celsius: '))\n",
    "if temp>40:\n",
    "    print('heat alert')\n",
    "elif temp>=30 and temp<=40:\n",
    "    print('warm')\n",
    "elif temp<=30:\n",
    "    print('normal')\n"
   ]
  },
  {
   "cell_type": "code",
   "execution_count": 18,
   "id": "fc34af97",
   "metadata": {},
   "outputs": [
    {
     "name": "stdout",
     "output_type": "stream",
     "text": [
      "strong password\n"
     ]
    }
   ],
   "source": [
    "password=input('enter password: ')\n",
    "if len(password)>=8 and '@' in password:\n",
    "    print('strong password')\n",
    "else:\n",
    "    print('weak password')\n"
   ]
  },
  {
   "cell_type": "code",
   "execution_count": 19,
   "id": "a810264b",
   "metadata": {},
   "outputs": [
    {
     "name": "stdout",
     "output_type": "stream",
     "text": [
      "withdrawl successful\n"
     ]
    }
   ],
   "source": [
    "balamount=10000\n",
    "amount=int(input('enter amount: '))\n",
    "if amount<=balamount and amount%100==0:\n",
    "    print('withdrawl successful')\n",
    "else:\n",
    "    print('withdrawl failed')\n"
   ]
  },
  {
   "cell_type": "code",
   "execution_count": null,
   "id": "6ff6bcc2",
   "metadata": {},
   "outputs": [
    {
     "name": "stdout",
     "output_type": "stream",
     "text": [
      "not divisible by 3 and 5\n"
     ]
    }
   ],
   "source": [
    "n=int(input('enter number: '))\n",
    "if n%3==0 and n%5==0:\n",
    "    print('divisible by 3 and 5')\n",
    "elif n%3==0:\n",
    "    print('divisible by 3')\n",
    "elif n%5==0:\n",
    "    print('divisible by 5')\n",
    "else:\n",
    "    print('not divisible by 3 and 5')\n"
   ]
  },
  {
   "cell_type": "code",
   "execution_count": null,
   "id": "4cab37ce",
   "metadata": {},
   "outputs": [
    {
     "name": "stdout",
     "output_type": "stream",
     "text": [
      "pen is available\n"
     ]
    }
   ],
   "source": [
    "userinput=input('enter product name: ')\n",
    "product='pen pencil eraser'\n",
    "if 'pen' in product:\n",
    "    print('pen is available')\n",
    "elif 'pencil' in product:\n",
    "    print('pencil is available')\n",
    "elif 'eraser' in product:\n",
    "    print('eraser is available')\n",
    "\n",
    "else:\n",
    "    print('product not available')\n"
   ]
  },
  {
   "cell_type": "code",
   "execution_count": null,
   "id": "f4d3bbf0",
   "metadata": {},
   "outputs": [
    {
     "name": "stdout",
     "output_type": "stream",
     "text": [
      "valid triangle\n"
     ]
    }
   ],
   "source": [
    "length1=int(input('enter 1st length of triangle: '))\n",
    "length2=int(input('enter 2nd length of triangle: '))\n",
    "length3=int(input('enter 3rd length of triangle: '))\n",
    "if length1+length2>length3 and length1+length3>length2 and length2+length3>length1:\n",
    "    print('valid triangle')\n",
    "else:\n",
    "    print('invalid triangle')\n"
   ]
  },
  {
   "cell_type": "code",
   "execution_count": null,
   "id": "7acb5f43",
   "metadata": {},
   "outputs": [
    {
     "name": "stdout",
     "output_type": "stream",
     "text": [
      "greatest number: 5\n"
     ]
    }
   ],
   "source": [
    "n=int(input('enter number: '))\n",
    "m=int(input('enter number: '))\n",
    "p=  int(input('enter number: '))\n",
    "greatest=0\n",
    "if n>m and n>p:\n",
    "    greatest=n\n",
    "\n",
    "elif m>n and m>p:\n",
    "    greatest=m\n",
    "    \n",
    "elif p>n and p>m:\n",
    "    greatest=p\n",
    "print('greatest number:',greatest)\n"
   ]
  },
  {
   "cell_type": "code",
   "execution_count": null,
   "id": "dd952068",
   "metadata": {},
   "outputs": [
    {
     "name": "stdout",
     "output_type": "stream",
     "text": [
      "valid marks\n"
     ]
    }
   ],
   "source": [
    "marks=int(input('enter marks: '))\n",
    "if marks<=100 and marks>=0:\n",
    "    print('valid marks')\n",
    "else:\n",
    "    print('invalid marks')\n"
   ]
  },
  {
   "cell_type": "code",
   "execution_count": null,
   "id": "95f90c4b",
   "metadata": {},
   "outputs": [
    {
     "name": "stdout",
     "output_type": "stream",
     "text": [
      "login failed\n"
     ]
    }
   ],
   "source": [
    "predifined_username='shreeya'\n",
    "predifined_password='shreeya@123'\n",
    "username=input('enter username: ')\n",
    "password=input('enter password: ')\n",
    "if username==predifined_username and password==predifined_password:\n",
    "    print('login successful')\n",
    "else:\n",
    "    print('login failed')\n"
   ]
  },
  {
   "cell_type": "code",
   "execution_count": null,
   "id": "681da093",
   "metadata": {},
   "outputs": [
    {
     "name": "stdout",
     "output_type": "stream",
     "text": [
      "total bill: 2600\n"
     ]
    }
   ],
   "source": [
    "electricity_bill=int(input('enter electricity bill: '))\n",
    "if electricity_bill<=100:\n",
    "    bill=5*100\n",
    "elif electricity_bill>100 and electricity_bill<=200:\n",
    "    bill=5*100+7*(electricity_bill-100)\n",
    "else:\n",
    "    bill=5*100+7*(200-100)+10*(electricity_bill-200)\n",
    "print('total bill:',bill)"
   ]
  }
 ],
 "metadata": {
  "kernelspec": {
   "display_name": "python_capgemini",
   "language": "python",
   "name": "python3"
  },
  "language_info": {
   "codemirror_mode": {
    "name": "ipython",
    "version": 3
   },
   "file_extension": ".py",
   "mimetype": "text/x-python",
   "name": "python",
   "nbconvert_exporter": "python",
   "pygments_lexer": "ipython3",
   "version": "3.11.11"
  }
 },
 "nbformat": 4,
 "nbformat_minor": 5
}

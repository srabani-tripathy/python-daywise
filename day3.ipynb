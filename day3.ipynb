{
 "cells": [
  {
   "cell_type": "code",
   "execution_count": 1,
   "id": "1c89c3ed",
   "metadata": {},
   "outputs": [
    {
     "name": "stdout",
     "output_type": "stream",
     "text": [
      "num2 is the second largest\n"
     ]
    }
   ],
   "source": [
    "num1 = input(\"enetr a number\")\n",
    "num2 = input(\"enetr a number\")\n",
    "num3 = input(\"enetr a number\")\n",
    "\n",
    "if num1 > num2 and num1 >num3:\n",
    "    if num2> num3 :\n",
    "        print(\"num2 is second largest\")\n",
    "    else:\n",
    "        print(\"num3 is second largest\")  \n",
    "elif num2> num1 and num2 > num3 : \n",
    "    if num1> num3:\n",
    "        print(\"num1 is second largest\")\n",
    "    else:\n",
    "        print(\"num3 is second largest\")\n",
    "else: \n",
    "    if num1 > num2 :\n",
    "        print(\"num1 is the second largest\")\n",
    "    else:\n",
    "        print(\"num2 is the second largest\")   "
   ]
  },
  {
   "cell_type": "code",
   "execution_count": 2,
   "id": "b34537e5",
   "metadata": {},
   "outputs": [
    {
     "name": "stdout",
     "output_type": "stream",
     "text": [
      "the char is digit\n"
     ]
    }
   ],
   "source": [
    "a = input(\"enter a charecter\")\n",
    "vow ='aeiou'\n",
    "if a in vow :\n",
    "    print(\" the char is vowel\")\n",
    "elif 'b'<= a <='z':\n",
    "    print(\"the char is cons.\")\n",
    "elif '0' <= a<= '9':\n",
    "    print(\"the char is digit\")    \n",
    "else :\n",
    "    print(\"special char\")    "
   ]
  },
  {
   "cell_type": "code",
   "execution_count": 3,
   "id": "74087eb3",
   "metadata": {},
   "outputs": [
    {
     "name": "stdout",
     "output_type": "stream",
     "text": [
      " a leap year\n"
     ]
    }
   ],
   "source": [
    "a =int(input(\"enter a year\"))\n",
    "if (a % 4 == 0 and a % 100 != 0) or (a % 400 == 0):\n",
    "    print(\" a leap year\")\n",
    "else:\n",
    "    print(\"not a leap year\")    "
   ]
  },
  {
   "cell_type": "markdown",
   "id": "e4fc6df5",
   "metadata": {},
   "source": [
    "# Match Case"
   ]
  },
  {
   "cell_type": "code",
   "execution_count": null,
   "id": "de92e89c",
   "metadata": {},
   "outputs": [
    {
     "data": {
      "text/plain": [
       "'a = int(input())\\nmatch a :\\n    case 1:\\n        statement\\n    case 2:\\n        statement'"
      ]
     },
     "execution_count": 4,
     "metadata": {},
     "output_type": "execute_result"
    }
   ],
   "source": [
    "'''a = int(input())\n",
    "match a :\n",
    "    case 1:\n",
    "        statement\n",
    "    case 2:\n",
    "        statement\n",
    "    case _ :(this case default block)\n",
    "            statement    '''\n"
   ]
  },
  {
   "cell_type": "code",
   "execution_count": 13,
   "id": "8a589448",
   "metadata": {},
   "outputs": [
    {
     "name": "stdout",
     "output_type": "stream",
     "text": [
      "Withdrawal successful. Current balance: 8000\n"
     ]
    }
   ],
   "source": [
    "current_balance = 10000\n",
    "operation = input(\"Enter operation (deposit, withdraw, check balance): \")\n",
    "match operation:\n",
    "    case 'withdraw':\n",
    "        amt = int(input(\"Enter withdraw amount: \")) \n",
    "        if amt <= 5000:\n",
    "            current_balance -= amt  \n",
    "            print(\"Withdrawal successful. Current balance:\",current_balance)\n",
    "        else:\n",
    "            print(\"Enter an amount less than 5000\")\n",
    "\n",
    "    case 'deposit':\n",
    "        amt = int(input(\"Enter deposit amount: \"))\n",
    "        if 0< amt <= 10000 :\n",
    "            current_balance += amt\n",
    "            print(\"Deposit successful. Current balance:\" ,current_balance)\n",
    "        else:\n",
    "            print(\"invalid !. Enter an amount between 0 - 10000\")\n",
    "    case 'check balance':\n",
    "        print(\"Your current balance is: \", current_balance)\n",
    "\n",
    "    case _:\n",
    "        print(\"Invalid operation.\")"
   ]
  },
  {
   "cell_type": "markdown",
   "id": "33f3e4b0",
   "metadata": {},
   "source": [
    "# Looping Statements"
   ]
  },
  {
   "cell_type": "markdown",
   "id": "2ae53fd2",
   "metadata": {},
   "source": [
    "### FOR LOOP"
   ]
  },
  {
   "cell_type": "markdown",
   "id": "0a909c64",
   "metadata": {},
   "source": [
    "we can use For loop when we only know the range "
   ]
  },
  {
   "cell_type": "markdown",
   "id": "e444b453",
   "metadata": {},
   "source": [
    "##### TYPES OF FOR LOOP"
   ]
  },
  {
   "cell_type": "markdown",
   "id": "d489d535",
   "metadata": {},
   "source": [
    "We have two types of for loop:"
   ]
  },
  {
   "cell_type": "markdown",
   "id": "ad145d6f",
   "metadata": {},
   "source": [
    "----> Iterable method"
   ]
  },
  {
   "cell_type": "markdown",
   "id": "7678c10a",
   "metadata": {},
   "source": [
    "----> Range method"
   ]
  },
  {
   "cell_type": "code",
   "execution_count": 28,
   "id": "5dda2155",
   "metadata": {},
   "outputs": [
    {
     "name": "stdout",
     "output_type": "stream",
     "text": [
      "8 x 1 = 8\n",
      "8 x 2 = 16\n",
      "8 x 3 = 24\n",
      "8 x 4 = 32\n",
      "8 x 5 = 40\n",
      "8 x 6 = 48\n",
      "8 x 7 = 56\n",
      "8 x 8 = 64\n",
      "8 x 9 = 72\n",
      "8 x 10 = 80\n"
     ]
    }
   ],
   "source": [
    "for s in range(1, 11):\n",
    "    print(f\"8 x {s} = {8 * s}\") "
   ]
  },
  {
   "cell_type": "code",
   "execution_count": null,
   "id": "87715bdc",
   "metadata": {},
   "outputs": [
    {
     "name": "stdout",
     "output_type": "stream",
     "text": [
      "100 110 120 130 140 150 160 170 180 190 200 210 220 230 240 250 260 270 280 290 300 310 320 330 340 350 360 370 380 390 400 410 420 430 440 450 460 470 480 490 500 510 520 530 540 550 560 570 580 590 600 610 620 630 640 650 660 670 680 690 700 710 720 730 740 750 760 770 780 790 800 810 820 830 840 850 860 870 880 890 900 910 920 930 940 950 960 970 980 990 "
     ]
    }
   ],
   "source": [
    "for s in range(100,1000,10):\n",
    "    print(s,end=\" \")"
   ]
  },
  {
   "cell_type": "code",
   "execution_count": 1,
   "id": "4715adbe",
   "metadata": {},
   "outputs": [
    {
     "name": "stdout",
     "output_type": "stream",
     "text": [
      "n o h t y p "
     ]
    }
   ],
   "source": [
    "for i in \"python\"[::-1]:\n",
    "    print(i,end =\" \")\n"
   ]
  },
  {
   "cell_type": "code",
   "execution_count": 2,
   "id": "d4a4df25",
   "metadata": {},
   "outputs": [
    {
     "name": "stdout",
     "output_type": "stream",
     "text": [
      "uppercase count 1\n",
      "lower count 1\n",
      "uppercase count 2\n",
      "special charecter count 1\n",
      "digit count 1\n",
      "digit count 2\n",
      "digit count 3\n",
      "digit count 4\n"
     ]
    }
   ],
   "source": [
    "a = input()\n",
    "upper_count = 0\n",
    "lower_count = 0\n",
    "digit_count =0\n",
    "special_count = 0\n",
    "\n",
    "for char in a :\n",
    "    ascii_val = ord(char)\n",
    "    if 65 <= ascii_val <= 90:\n",
    "        upper_count += 1\n",
    "        print(\"uppercase count\" ,upper_count)\n",
    "    elif 97 <= ascii_val <= 122:\n",
    "        lower_count += 1\n",
    "        print(\"lower count\" ,lower_count)\n",
    "    elif 48 <= ascii_val <= 57:\n",
    "        digit_count += 1\n",
    "        print(\"digit count\" ,digit_count)\n",
    "    else:\n",
    "        special_count += 1\n",
    "        print(\"special charecter count\" , special_count)\n",
    "\n",
    "\n"
   ]
  },
  {
   "cell_type": "markdown",
   "id": "cd271006",
   "metadata": {},
   "source": [
    "### WHILE LOOP"
   ]
  },
  {
   "cell_type": "markdown",
   "id": "c741c8ec",
   "metadata": {},
   "source": [
    "We use for range and infinite"
   ]
  },
  {
   "cell_type": "code",
   "execution_count": 1,
   "id": "c9561fa9",
   "metadata": {},
   "outputs": [
    {
     "data": {
      "text/plain": [
       "' while condition:\\n        (condition is the end range)\\n        ---> if the conditon becomes false loop stops to execute'"
      ]
     },
     "execution_count": 1,
     "metadata": {},
     "output_type": "execute_result"
    }
   ],
   "source": [
    "# syntax for while loop\n",
    "''' while condition:\n",
    "        (condition is the end range)\n",
    "        ---> if the conditon becomes false loop stops to execute'''"
   ]
  },
  {
   "cell_type": "code",
   "execution_count": null,
   "id": "220ef9f2",
   "metadata": {},
   "outputs": [
    {
     "name": "stdout",
     "output_type": "stream",
     "text": [
      "987 966 945 924 903 882 861 840 819 798 777 756 735 714 693 672 651 630 609 588 567 546 525 504 "
     ]
    }
   ],
   "source": [
    "num = 1000 \n",
    "while num >= 500:  \n",
    "    if num % 21 == 0:  \n",
    "        print(num, end=\" \")\n",
    "    num -= 1  "
   ]
  },
  {
   "cell_type": "markdown",
   "id": "12104c61",
   "metadata": {},
   "source": [
    "### KEYWORDS"
   ]
  },
  {
   "cell_type": "markdown",
   "id": "99d19666",
   "metadata": {},
   "source": [
    "There are three keywords //pass\\\\\\\\//continue\\\\\\\\//break"
   ]
  },
  {
   "cell_type": "markdown",
   "id": "c4b10eca",
   "metadata": {},
   "source": [
    "PASS is used to create an empty block"
   ]
  },
  {
   "cell_type": "markdown",
   "id": "946da8ff",
   "metadata": {},
   "source": [
    "CONTINUE keyword  directly takes to the loop"
   ]
  },
  {
   "cell_type": "markdown",
   "id": "4cfad6af",
   "metadata": {},
   "source": [
    "BREAK is used to directly exit from the loop"
   ]
  },
  {
   "cell_type": "markdown",
   "id": "bd856512",
   "metadata": {},
   "source": [
    " question 1: --->  \n",
    " take integer from user side .\n",
    "try to find sum of all even digit and odd digits inside a numer.without using type casting and string methods\n",
    "try to find the given number is palindrome or not.\n",
    "binary to decimal"
   ]
  },
  {
   "cell_type": "code",
   "execution_count": 23,
   "id": "6ba43042",
   "metadata": {},
   "outputs": [
    {
     "name": "stdout",
     "output_type": "stream",
     "text": [
      "Sum of even digits: 4\n",
      "Sum of odd digits: 6\n"
     ]
    }
   ],
   "source": [
    "a = int(input())\n",
    "even_sum =0\n",
    "odd_sum =0\n",
    "\n",
    "while a>0:\n",
    "    digit = a % 10\n",
    "    if a%2==0:\n",
    "        even_sum+= digit\n",
    "    else:\n",
    "        odd_sum+=digit\n",
    "    a //= 10        \n",
    "print(\"Sum of even digits:\", even_sum)\n",
    "print(\"Sum of odd digits:\", odd_sum)\n",
    "\n"
   ]
  },
  {
   "cell_type": "code",
   "execution_count": 28,
   "id": "99434f14",
   "metadata": {},
   "outputs": [
    {
     "name": "stdout",
     "output_type": "stream",
     "text": [
      "number is palindrome\n"
     ]
    }
   ],
   "source": [
    "a =int(input())\n",
    "original=a\n",
    "rev =0\n",
    "while a >0:\n",
    "    digit = a%10\n",
    "    rev = rev*10 +digit\n",
    "    a//= 10\n",
    "if original == rev:\n",
    "    print(\"number is palindrome\")\n",
    "else :\n",
    "    print(\"number is not palindrom\")        "
   ]
  },
  {
   "cell_type": "code",
   "execution_count": null,
   "id": "1e87593f",
   "metadata": {},
   "outputs": [],
   "source": [
    "binary = int(input())\n",
    "decimal=0\n",
    "power =0\n",
    "while binary> 0:\n",
    "    digit = binary%10\n",
    "    decimal+=digit*(2**power)\n",
    "    binary//=10\n",
    "    power+=1\n",
    "print(\"the decimal value is\",decimal)   "
   ]
  },
  {
   "cell_type": "markdown",
   "id": "200aa2c6",
   "metadata": {},
   "source": [
    "# LIST"
   ]
  },
  {
   "cell_type": "code",
   "execution_count": 38,
   "id": "9810bec5",
   "metadata": {},
   "outputs": [
    {
     "name": "stdout",
     "output_type": "stream",
     "text": [
      ":final list is:: [1, 2, 3, 4]\n"
     ]
    }
   ],
   "source": [
    "user_list=[]\n",
    "n =int(input(\"how many values?\"))\n",
    "for _ in range(n):\n",
    "    user_input=int(input())\n",
    "    user_list.append(user_input)\n",
    "print(\":final list is::\",user_list)    "
   ]
  }
 ],
 "metadata": {
  "kernelspec": {
   "display_name": "python_capgemini",
   "language": "python",
   "name": "python3"
  },
  "language_info": {
   "codemirror_mode": {
    "name": "ipython",
    "version": 3
   },
   "file_extension": ".py",
   "mimetype": "text/x-python",
   "name": "python",
   "nbconvert_exporter": "python",
   "pygments_lexer": "ipython3",
   "version": "3.11.11"
  }
 },
 "nbformat": 4,
 "nbformat_minor": 5
}

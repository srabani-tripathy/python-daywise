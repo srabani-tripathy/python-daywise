{
 "cells": [
  {
   "cell_type": "code",
   "execution_count": 31,
   "id": "58eb0184",
   "metadata": {},
   "outputs": [
    {
     "name": "stdout",
     "output_type": "stream",
     "text": [
      "50 80     10-20\n"
     ]
    }
   ],
   "source": [
    "print(50,80,end=\"     \")\n",
    "a,b =10,20\n",
    "print(a,b,sep=\"-\")"
   ]
  },
  {
   "cell_type": "code",
   "execution_count": 32,
   "id": "00795a12",
   "metadata": {},
   "outputs": [
    {
     "name": "stdout",
     "output_type": "stream",
     "text": [
      "100$200@300#400 "
     ]
    }
   ],
   "source": [
    "# 100$200@300#400\n",
    "\n",
    "a,b,c,d=100,200,300,400\n",
    "print(a,b,sep=\"$\",end =\"@\")\n",
    "print(c,d,sep=\"#\", end =\" \")\n",
    "\n",
    "\n"
   ]
  },
  {
   "cell_type": "code",
   "execution_count": 33,
   "id": "ec7603eb",
   "metadata": {},
   "outputs": [
    {
     "name": "stdout",
     "output_type": "stream",
     "text": [
      "1-1000$10-20#30@40#"
     ]
    }
   ],
   "source": [
    "a,b,c,d,e,f=1,1000,10,20,30,40\n",
    "print(a,b,sep=\"-\",end=\"$\")\n",
    "print(c,d,sep=\"-\",end=\"#\")\n",
    "print(e,f,sep=\"@\",end=\"#\")"
   ]
  },
  {
   "cell_type": "code",
   "execution_count": 34,
   "id": "25adb017",
   "metadata": {},
   "outputs": [
    {
     "name": "stdout",
     "output_type": "stream",
     "text": [
      "value of a= 10 b= 20 c= 30\n"
     ]
    }
   ],
   "source": [
    "a=10\n",
    "b=20\n",
    "c=30\n",
    "print(f\"value of a=\",a,\"b=\",b,\"c=\",c)\n"
   ]
  },
  {
   "cell_type": "markdown",
   "id": "b60616e2",
   "metadata": {},
   "source": [
    "# Formative string"
   ]
  },
  {
   "cell_type": "markdown",
   "id": "2f3f2535",
   "metadata": {},
   "source": [
    "we can print the above code by using the concept of formative  string"
   ]
  },
  {
   "cell_type": "code",
   "execution_count": 35,
   "id": "0024bc71",
   "metadata": {},
   "outputs": [
    {
     "name": "stdout",
     "output_type": "stream",
     "text": [
      "value of a=10 b=20 c=30\n"
     ]
    }
   ],
   "source": [
    "a = 10\n",
    "b = 20\n",
    "c = 30\n",
    "print(f\"value of a={a} b={b} c={c}\")"
   ]
  },
  {
   "cell_type": "markdown",
   "id": "370f09f7",
   "metadata": {},
   "source": [
    "# Type casting"
   ]
  },
  {
   "cell_type": "code",
   "execution_count": 39,
   "id": "507abcf6",
   "metadata": {},
   "outputs": [
    {
     "name": "stdout",
     "output_type": "stream",
     "text": [
      "10.0\n",
      "10\n"
     ]
    }
   ],
   "source": [
    "a = 10\n",
    "b = float(a)\n",
    "c = str(a)\n",
    "d = int(a)\n",
    "print(b)\n",
    "print(c)"
   ]
  },
  {
   "cell_type": "code",
   "execution_count": 45,
   "id": "c54dfcfb",
   "metadata": {},
   "outputs": [
    {
     "name": "stdout",
     "output_type": "stream",
     "text": [
      "110.6\n",
      "110\n",
      "100\n"
     ]
    }
   ],
   "source": [
    "a = 110.6\n",
    "b=int(a)\n",
    "c=str(a)\n",
    "print(c)\n",
    "print(b)\n",
    "e = \"100\"\n",
    "d=int(e)\n",
    "print(d)"
   ]
  },
  {
   "cell_type": "code",
   "execution_count": 1,
   "id": "2b5c8619",
   "metadata": {},
   "outputs": [
    {
     "name": "stdout",
     "output_type": "stream",
     "text": [
      "False\n",
      "False\n"
     ]
    }
   ],
   "source": [
    "print('A'<=input()<='Z')\n",
    "print('a'<=input()<='z')"
   ]
  }
 ],
 "metadata": {
  "kernelspec": {
   "display_name": "python_capgemini",
   "language": "python",
   "name": "python3"
  },
  "language_info": {
   "codemirror_mode": {
    "name": "ipython",
    "version": 3
   },
   "file_extension": ".py",
   "mimetype": "text/x-python",
   "name": "python",
   "nbconvert_exporter": "python",
   "pygments_lexer": "ipython3",
   "version": "3.11.11"
  }
 },
 "nbformat": 4,
 "nbformat_minor": 5
}

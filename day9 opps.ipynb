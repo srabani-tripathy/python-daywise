{
 "cells": [
  {
   "cell_type": "markdown",
   "id": "a9ce0ca3",
   "metadata": {},
   "source": [
    "## Encapsulation"
   ]
  },
  {
   "cell_type": "markdown",
   "id": "81b83853",
   "metadata": {},
   "source": [
    "_ for protected and __ for private"
   ]
  },
  {
   "cell_type": "code",
   "execution_count": 2,
   "id": "0f9b1775",
   "metadata": {},
   "outputs": [
    {
     "name": "stdout",
     "output_type": "stream",
     "text": [
      "iam public\n",
      "i am protected\n"
     ]
    },
    {
     "ename": "AttributeError",
     "evalue": "'example' object has no attribute '__c'",
     "output_type": "error",
     "traceback": [
      "\u001b[31m---------------------------------------------------------------------------\u001b[39m",
      "\u001b[31mAttributeError\u001b[39m                            Traceback (most recent call last)",
      "\u001b[36mCell\u001b[39m\u001b[36m \u001b[39m\u001b[32mIn[2]\u001b[39m\u001b[32m, line 11\u001b[39m\n\u001b[32m      9\u001b[39m \u001b[38;5;28mprint\u001b[39m(obj.a)\n\u001b[32m     10\u001b[39m \u001b[38;5;28mprint\u001b[39m(obj._b)\n\u001b[32m---> \u001b[39m\u001b[32m11\u001b[39m \u001b[38;5;28mprint\u001b[39m(obj.__c)\n",
      "\u001b[31mAttributeError\u001b[39m: 'example' object has no attribute '__c'"
     ]
    }
   ],
   "source": [
    "class example:\n",
    "    def __init__(self):\n",
    "        self.a=\"iam public\"\n",
    "        self._b = \"i am protected\"\n",
    "        self.__c = \"i am private\"\n",
    "    def display(self):\n",
    "        print(self.a,self._b,self.__c)\n",
    "obj = example()\n",
    "print(obj.a)\n",
    "print(obj._b)\n",
    "print(obj.__c)            \n"
   ]
  },
  {
   "cell_type": "code",
   "execution_count": 3,
   "id": "70f963cd",
   "metadata": {},
   "outputs": [
    {
     "name": "stdout",
     "output_type": "stream",
     "text": [
      "iam public\n",
      "i am protected\n",
      "i am private\n"
     ]
    }
   ],
   "source": [
    "class example:\n",
    "    def __init__(self):\n",
    "        self.a=\"iam public\"\n",
    "        self._b = \"i am protected\"\n",
    "        self.__c = \"i am private\"\n",
    "    def display(self):\n",
    "        print(self.a,self._b,self.__c)\n",
    "obj = example()\n",
    "print(obj.a)\n",
    "print(obj._b)\n",
    "print(obj._example__c)            \n"
   ]
  },
  {
   "cell_type": "code",
   "execution_count": 9,
   "id": "a7247289",
   "metadata": {},
   "outputs": [
    {
     "name": "stdout",
     "output_type": "stream",
     "text": [
      "New public value\n",
      "New protected value\n",
      "New private value\n",
      "public\n",
      "protected\n"
     ]
    },
    {
     "ename": "AttributeError",
     "evalue": "'example' object has no attribute '__private'",
     "output_type": "error",
     "traceback": [
      "\u001b[31m---------------------------------------------------------------------------\u001b[39m",
      "\u001b[31mAttributeError\u001b[39m                            Traceback (most recent call last)",
      "\u001b[36mCell\u001b[39m\u001b[36m \u001b[39m\u001b[32mIn[9]\u001b[39m\u001b[32m, line 26\u001b[39m\n\u001b[32m     24\u001b[39m obj.public()\n\u001b[32m     25\u001b[39m obj._protected()\n\u001b[32m---> \u001b[39m\u001b[32m26\u001b[39m obj.__private()\n",
      "\u001b[31mAttributeError\u001b[39m: 'example' object has no attribute '__private'"
     ]
    }
   ],
   "source": [
    "class example:\n",
    "    def __init__(self):\n",
    "        self.a=\" i am public\"\n",
    "        self._b = \"i am protected\"\n",
    "        self.__c = \"i am private\"\n",
    "    def display(self):\n",
    "        print(self.a,self._b,self.__c)\n",
    "\n",
    "    def public(self):\n",
    "        print(\"public\")\n",
    "    def _protected(self):\n",
    "        print(\"protected\")\n",
    "    def __private(self):\n",
    "        print(\"private\")            \n",
    "obj = example()\n",
    "obj.a = \"New public value\"\n",
    "obj._b = \"New protected value\"\n",
    "obj._example__c = \"New private value\"\n",
    "\n",
    "print(obj.a)\n",
    "print(obj._b)\n",
    "print(obj._example__c) \n",
    "\n",
    "obj.public()\n",
    "obj._protected()\n",
    "obj.__private()"
   ]
  },
  {
   "cell_type": "code",
   "execution_count": 19,
   "id": "b440210d",
   "metadata": {},
   "outputs": [
    {
     "name": "stdout",
     "output_type": "stream",
     "text": [
      "New public value\n",
      "New protected value\n",
      "New private value\n",
      "public\n",
      "protected\n",
      "private\n"
     ]
    }
   ],
   "source": [
    "class example:\n",
    "    def __init__(self):\n",
    "        self.a=\" i am public\"\n",
    "        self._b = \"i am protected\"\n",
    "        self.__c = \"i am private\"\n",
    "    def display(self):\n",
    "        print(self.a,self._b,self.__c)\n",
    "\n",
    "    def public(self):\n",
    "        print(\"public\")\n",
    "    def _protected(self):\n",
    "        print(\"protected\")\n",
    "    def __private(self):\n",
    "        print(\"private\")            \n",
    "obj = example()\n",
    "obj.a = \"New public value\"\n",
    "obj._b = \"New protected value\"\n",
    "obj.__c = \"New private value\"\n",
    "\n",
    "print(obj.a)\n",
    "print(obj._b)\n",
    "print(obj.__c) \n",
    "\n",
    "obj.public()\n",
    "obj._protected()\n",
    "obj._example__private()"
   ]
  },
  {
   "cell_type": "markdown",
   "id": "f7e72283",
   "metadata": {},
   "source": [
    "## Inheritance"
   ]
  },
  {
   "cell_type": "code",
   "execution_count": 20,
   "id": "a494db51",
   "metadata": {},
   "outputs": [
    {
     "name": "stdout",
     "output_type": "stream",
     "text": [
      "teacher: project your voice\n",
      "student: i will now perform\n"
     ]
    }
   ],
   "source": [
    "class Dramateacher:\n",
    "    def teach_acting(self):\n",
    "        print(\"teacher: project your voice\")\n",
    "class student(Dramateacher):\n",
    "    def perform(self):\n",
    "        print(\"student: i will now perform\")\n",
    "\n",
    "s=student()\n",
    "s.teach_acting()\n",
    "s.perform()"
   ]
  },
  {
   "cell_type": "markdown",
   "id": "9cd86d37",
   "metadata": {},
   "source": [
    "inside the child class we can access the parent class by using the keyword SUPER"
   ]
  },
  {
   "cell_type": "code",
   "execution_count": 27,
   "id": "1be61f97",
   "metadata": {},
   "outputs": [
    {
     "name": "stdout",
     "output_type": "stream",
     "text": [
      "student: i will now perform\n",
      "teacher: project your voice\n"
     ]
    }
   ],
   "source": [
    "class Dramateacher:\n",
    "    def teach_acting(self):\n",
    "        print(\"teacher: project your voice\")\n",
    "class student(Dramateacher):\n",
    "    def perform(self):\n",
    "        print(\"student: i will now perform\")\n",
    "        super().teach_acting()\n",
    "\n",
    "s=student()\n",
    "#s.teach_acting()\n",
    "s.perform()"
   ]
  },
  {
   "cell_type": "code",
   "execution_count": 25,
   "id": "d211e6ae",
   "metadata": {},
   "outputs": [
    {
     "name": "stdout",
     "output_type": "stream",
     "text": [
      "student: i will now perform\n",
      "teacher: project your voice\n"
     ]
    }
   ],
   "source": [
    "# ANOTHER WAY WITHOUT USING SUPER KEYWORD\n",
    "class Dramateacher:\n",
    "    def teach_acting(self):\n",
    "        print(\"teacher: project your voice\")\n",
    "class student():\n",
    "    def perform(self):\n",
    "        print(\"student: i will now perform\")\n",
    "        Dramateacher.teach_acting(self)\n",
    "\n",
    "s=student()\n",
    "s.perform()"
   ]
  },
  {
   "cell_type": "code",
   "execution_count": 9,
   "id": "8f4e1fec",
   "metadata": {},
   "outputs": [
    {
     "name": "stdout",
     "output_type": "stream",
     "text": [
      "student: i will now perform\n"
     ]
    }
   ],
   "source": [
    "class Dramateacher:\n",
    "    def teach_acting(self):\n",
    "        print(\"teacher: project your voice\")\n",
    "        self.perform()\n",
    "class student(Dramateacher):\n",
    "    def perform(self):\n",
    "        print(\"student: i will now perform\")\n",
    "        #Dramateacher.teach_acting(self)\n",
    "\n",
    "s= student()\n",
    "s.perform()"
   ]
  },
  {
   "cell_type": "markdown",
   "id": "c175a0bf",
   "metadata": {},
   "source": [
    "### MULTI -LEVEL"
   ]
  },
  {
   "cell_type": "code",
   "execution_count": null,
   "id": "115e94c1",
   "metadata": {},
   "outputs": [
    {
     "name": "stdout",
     "output_type": "stream",
     "text": [
      "senior: here's how to do classical dance\n",
      "junior: entry stage with confidence\n"
     ]
    }
   ],
   "source": [
    "class senior:\n",
    "    def teach_dance(self):\n",
    "        print(\"senior: here's how to do classical dance\")\n",
    "class junior(senior):\n",
    "    def teach_dance_entry(self):\n",
    "        print(\"junior: entry stage with confidence\")\n",
    "class fresher(junior):\n",
    "    def perform_scene(self):\n",
    "        print(\"Fresher: I'm ready to perform\") \n",
    "f =fresher()\n",
    "f.teach_dance()\n",
    "f.teach_dance_entry()  \n",
    "             \n",
    "       "
   ]
  },
  {
   "cell_type": "markdown",
   "id": "29378958",
   "metadata": {},
   "source": [
    "we can accesss the parent using super() in multi level"
   ]
  },
  {
   "cell_type": "code",
   "execution_count": 13,
   "id": "5f0a02a9",
   "metadata": {},
   "outputs": [
    {
     "name": "stdout",
     "output_type": "stream",
     "text": [
      "senior: here's how to do classical dance\n",
      "junior: entry stage with confidence\n"
     ]
    }
   ],
   "source": [
    "class senior:\n",
    "    def teach_dance(self):\n",
    "        print(\"senior: here's how to do classical dance\")\n",
    "class junior(senior):\n",
    "    def teach_dance_entry(self):\n",
    "        print(\"junior: entry stage with confidence\")\n",
    "class fresher(junior):\n",
    "    def perform_scene(self):\n",
    "        print(\"Fresher: I'm ready to perform\") \n",
    "        super().teach_dance_entry()\n",
    "f =fresher()\n",
    "f.teach_dance()\n",
    "f.teach_dance_entry()  "
   ]
  },
  {
   "cell_type": "code",
   "execution_count": 14,
   "id": "4547dfd3",
   "metadata": {},
   "outputs": [
    {
     "name": "stdout",
     "output_type": "stream",
     "text": [
      "senior: here's how to do classical dance\n",
      "Fresher: I'm ready to perform\n"
     ]
    }
   ],
   "source": [
    "class senior:\n",
    "    def teach_dance(self):\n",
    "        print(\"senior: here's how to do classical dance\")\n",
    "class junior(senior):\n",
    "    def teach_dance_entry(self):\n",
    "        print(\"junior: entry stage with confidence\")\n",
    "class fresher(junior):\n",
    "    def teach_dance_entry(self):\n",
    "        print(\"Fresher: I'm ready to perform\") \n",
    "f =fresher()\n",
    "f.teach_dance()\n",
    "f.teach_dance_entry()  "
   ]
  }
 ],
 "metadata": {
  "kernelspec": {
   "display_name": "python_capgemini",
   "language": "python",
   "name": "python3"
  },
  "language_info": {
   "codemirror_mode": {
    "name": "ipython",
    "version": 3
   },
   "file_extension": ".py",
   "mimetype": "text/x-python",
   "name": "python",
   "nbconvert_exporter": "python",
   "pygments_lexer": "ipython3",
   "version": "3.11.11"
  }
 },
 "nbformat": 4,
 "nbformat_minor": 5
}

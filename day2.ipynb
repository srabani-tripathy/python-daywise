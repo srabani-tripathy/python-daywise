{
 "cells": [
  {
   "cell_type": "markdown",
   "id": "70788f76",
   "metadata": {},
   "source": [
    "# Operator"
   ]
  },
  {
   "cell_type": "code",
   "execution_count": 7,
   "id": "6771d4bc",
   "metadata": {},
   "outputs": [
    {
     "name": "stdout",
     "output_type": "stream",
     "text": [
      "12341234\n",
      "20.5\n",
      "1234 1234\n",
      "1\n",
      "0.5\n",
      "123412341234\n",
      "5.0\n",
      "0\n",
      "11\n",
      "5\n"
     ]
    }
   ],
   "source": [
    "print(\"1234\"+\"1234\")\n",
    "print(10+10.5)\n",
    "print(\"1234\",\"1234\")\n",
    "print(10-9)\n",
    "print(10-9.5)\n",
    "print(3*\"1234\")\n",
    "print(10/2)\n",
    "print(10%2)\n",
    "print(11%13)\n",
    "print(2525%10)\n"
   ]
  },
  {
   "cell_type": "code",
   "execution_count": 8,
   "id": "d34e256d",
   "metadata": {},
   "outputs": [
    {
     "name": "stdout",
     "output_type": "stream",
     "text": [
      "97\n"
     ]
    }
   ],
   "source": [
    "'''\n",
    "ord()\n",
    "chr()\n",
    "'''\n",
    "print(ord('a'))\n"
   ]
  },
  {
   "cell_type": "code",
   "execution_count": 9,
   "id": "f145e5b1",
   "metadata": {},
   "outputs": [
    {
     "name": "stdout",
     "output_type": "stream",
     "text": [
      "17\n"
     ]
    }
   ],
   "source": [
    "a=(bin(145 & 123))\n",
    "print(int(a,2))"
   ]
  },
  {
   "cell_type": "code",
   "execution_count": 10,
   "id": "ab5bf0a5",
   "metadata": {},
   "outputs": [
    {
     "name": "stdout",
     "output_type": "stream",
     "text": [
      "A\n"
     ]
    }
   ],
   "source": [
    "num =(ord('a'))\n",
    "b=(num-32)\n",
    "print(chr(b))"
   ]
  },
  {
   "cell_type": "code",
   "execution_count": 11,
   "id": "c2a06cd2",
   "metadata": {},
   "outputs": [
    {
     "name": "stdout",
     "output_type": "stream",
     "text": [
      "False\n",
      "False\n"
     ]
    }
   ],
   "source": [
    "s=input()\n",
    "print(s>='A' and s<='Z')\n",
    "print('a'<=input()<='z')"
   ]
  },
  {
   "cell_type": "markdown",
   "id": "72314878",
   "metadata": {},
   "source": [
    "# Bitwise Operator"
   ]
  },
  {
   "cell_type": "code",
   "execution_count": 12,
   "id": "cfd942e2",
   "metadata": {},
   "outputs": [
    {
     "name": "stdout",
     "output_type": "stream",
     "text": [
      "11\n"
     ]
    }
   ],
   "source": [
    "a=(bin(155&75))\n",
    "print(int(a,2))"
   ]
  },
  {
   "cell_type": "code",
   "execution_count": 13,
   "id": "6744d817",
   "metadata": {},
   "outputs": [
    {
     "name": "stdout",
     "output_type": "stream",
     "text": [
      "219\n"
     ]
    }
   ],
   "source": [
    "a=(bin(155|75))\n",
    "print(int(a,2))"
   ]
  },
  {
   "cell_type": "code",
   "execution_count": 14,
   "id": "cd143c41",
   "metadata": {},
   "outputs": [
    {
     "name": "stdout",
     "output_type": "stream",
     "text": [
      "3094\n"
     ]
    }
   ],
   "source": [
    "a=(bin(1525^2531))\n",
    "print(int(a,2))"
   ]
  },
  {
   "cell_type": "code",
   "execution_count": 15,
   "id": "400f5e1c",
   "metadata": {},
   "outputs": [
    {
     "name": "stdout",
     "output_type": "stream",
     "text": [
      "39\n"
     ]
    }
   ],
   "source": [
    "a=(bin(156>>2))\n",
    "print(int(a,2))"
   ]
  },
  {
   "cell_type": "code",
   "execution_count": 16,
   "id": "b3167474",
   "metadata": {},
   "outputs": [
    {
     "name": "stdout",
     "output_type": "stream",
     "text": [
      "1248\n"
     ]
    }
   ],
   "source": [
    "a=(bin(156<<3))\n",
    "print(int(a,2))"
   ]
  },
  {
   "cell_type": "code",
   "execution_count": 17,
   "id": "a9f1d837",
   "metadata": {},
   "outputs": [
    {
     "name": "stdout",
     "output_type": "stream",
     "text": [
      "-24\n"
     ]
    }
   ],
   "source": [
    "a=(bin(~23))\n",
    "print(int(a,2))"
   ]
  },
  {
   "cell_type": "code",
   "execution_count": 18,
   "id": "fe80c54a",
   "metadata": {},
   "outputs": [
    {
     "name": "stdout",
     "output_type": "stream",
     "text": [
      "22\n"
     ]
    }
   ],
   "source": [
    "a=(bin(~-23))\n",
    "print(int(a,2))"
   ]
  },
  {
   "cell_type": "markdown",
   "id": "70a83202",
   "metadata": {},
   "source": [
    "# Assignment Operator "
   ]
  },
  {
   "cell_type": "markdown",
   "id": "b30d77c0",
   "metadata": {},
   "source": [
    "short hand operator"
   ]
  },
  {
   "cell_type": "markdown",
   "id": "8a342662",
   "metadata": {},
   "source": [
    "+=,-=,*=,/=,//=,%=,**=,&=,|=,^=,>>=,<<="
   ]
  },
  {
   "cell_type": "code",
   "execution_count": 19,
   "id": "4ab3fdb1",
   "metadata": {},
   "outputs": [
    {
     "name": "stdout",
     "output_type": "stream",
     "text": [
      "198\n"
     ]
    }
   ],
   "source": [
    "a = 156\n",
    "a += 42 \n",
    "print(a)"
   ]
  },
  {
   "cell_type": "code",
   "execution_count": 20,
   "id": "66fc43d7",
   "metadata": {},
   "outputs": [
    {
     "name": "stdout",
     "output_type": "stream",
     "text": [
      "114\n"
     ]
    }
   ],
   "source": [
    "a = 156\n",
    "a -= 42 \n",
    "print(a)"
   ]
  },
  {
   "cell_type": "code",
   "execution_count": 21,
   "id": "bcdd6010",
   "metadata": {},
   "outputs": [
    {
     "name": "stdout",
     "output_type": "stream",
     "text": [
      "6552\n"
     ]
    }
   ],
   "source": [
    "a = 156\n",
    "a *= 42 \n",
    "b = bin(a)[2:]  \n",
    "print(int(b, 2))  "
   ]
  },
  {
   "cell_type": "code",
   "execution_count": 22,
   "id": "45e1f65a",
   "metadata": {},
   "outputs": [
    {
     "name": "stdout",
     "output_type": "stream",
     "text": [
      "190\n"
     ]
    }
   ],
   "source": [
    "a = 156\n",
    "a |= 42 \n",
    "b = bin(a)[2:]  \n",
    "print(int(b, 2))  "
   ]
  },
  {
   "cell_type": "code",
   "execution_count": 23,
   "id": "0dc5b850",
   "metadata": {},
   "outputs": [
    {
     "name": "stdout",
     "output_type": "stream",
     "text": [
      "3\n"
     ]
    }
   ],
   "source": [
    "a = 156\n",
    "a //= 42 \n",
    "b = bin(a)[2:]  \n",
    "print(int(b, 2))  "
   ]
  },
  {
   "cell_type": "code",
   "execution_count": 24,
   "id": "5376ec04",
   "metadata": {},
   "outputs": [
    {
     "name": "stdout",
     "output_type": "stream",
     "text": [
      "30\n"
     ]
    }
   ],
   "source": [
    "a = 156\n",
    "a %= 42 \n",
    "b = bin(a)[2:]  \n",
    "print(int(b, 2))  "
   ]
  },
  {
   "cell_type": "code",
   "execution_count": 25,
   "id": "33e0d784",
   "metadata": {},
   "outputs": [
    {
     "name": "stdout",
     "output_type": "stream",
     "text": [
      "24336\n"
     ]
    }
   ],
   "source": [
    "a = 156\n",
    "a **= 2 \n",
    "print(a)  "
   ]
  },
  {
   "cell_type": "code",
   "execution_count": 26,
   "id": "1782a564",
   "metadata": {},
   "outputs": [
    {
     "name": "stdout",
     "output_type": "stream",
     "text": [
      "8\n"
     ]
    }
   ],
   "source": [
    "a = 156\n",
    "a &= 42 \n",
    "b = bin(a)[2:]  \n",
    "print(int(b, 2))  "
   ]
  },
  {
   "cell_type": "code",
   "execution_count": 27,
   "id": "e5b21882",
   "metadata": {},
   "outputs": [
    {
     "name": "stdout",
     "output_type": "stream",
     "text": [
      "182\n"
     ]
    }
   ],
   "source": [
    "a = 156\n",
    "a ^= 42 \n",
    "b = bin(a)[2:]  \n",
    "print(int(b, 2))  "
   ]
  },
  {
   "cell_type": "code",
   "execution_count": 28,
   "id": "94187158",
   "metadata": {},
   "outputs": [
    {
     "name": "stdout",
     "output_type": "stream",
     "text": [
      "0\n"
     ]
    }
   ],
   "source": [
    "a = 156\n",
    "a >>= 42 \n",
    "b = bin(a)[2:]  \n",
    "print(int(b, 2))  "
   ]
  },
  {
   "cell_type": "code",
   "execution_count": 29,
   "id": "41d60ad4",
   "metadata": {},
   "outputs": [
    {
     "name": "stdout",
     "output_type": "stream",
     "text": [
      "686095255732224\n"
     ]
    }
   ],
   "source": [
    "a = 156\n",
    "a <<= 42 \n",
    "b = bin(a)[2:]  \n",
    "print(int(b, 2))  "
   ]
  },
  {
   "cell_type": "code",
   "execution_count": 30,
   "id": "6aef92bc",
   "metadata": {},
   "outputs": [
    {
     "data": {
      "text/plain": [
       "2.0"
      ]
     },
     "execution_count": 30,
     "metadata": {},
     "output_type": "execute_result"
    }
   ],
   "source": [
    "a = 84\n",
    "a /= 42 \n",
    "# b = bin(a)[2:]  \n",
    "# print(int(b, 2))  \n",
    "a"
   ]
  },
  {
   "cell_type": "markdown",
   "id": "203609d4",
   "metadata": {},
   "source": [
    "# Membership Operator"
   ]
  },
  {
   "cell_type": "markdown",
   "id": "b8000ac8",
   "metadata": {},
   "source": [
    "(IN  , NOT IN)"
   ]
  },
  {
   "cell_type": "markdown",
   "id": "7af9151f",
   "metadata": {},
   "source": [
    "IN ----> Value present in collection"
   ]
  },
  {
   "cell_type": "markdown",
   "id": "564381c4",
   "metadata": {},
   "source": [
    "NOT  IN ----> if value not present in collection"
   ]
  },
  {
   "cell_type": "code",
   "execution_count": 31,
   "id": "4368d4fd",
   "metadata": {},
   "outputs": [
    {
     "name": "stdout",
     "output_type": "stream",
     "text": [
      "True\n",
      "False\n",
      "False\n",
      "True\n"
     ]
    }
   ],
   "source": [
    "print('sa' in 'santosh')\n",
    "print('st' in 'santosh')\n",
    "print('sa' not in 'santosh')\n",
    "print('st' not in 'santosh')"
   ]
  },
  {
   "cell_type": "code",
   "execution_count": 32,
   "id": "048092cf",
   "metadata": {},
   "outputs": [
    {
     "name": "stdout",
     "output_type": "stream",
     "text": [
      "False\n",
      "True\n"
     ]
    }
   ],
   "source": [
    "print('' not in  'santosh')\n",
    "print('' in 'santosh')"
   ]
  },
  {
   "cell_type": "markdown",
   "id": "ba2c9d59",
   "metadata": {},
   "source": [
    "# Slicing"
   ]
  },
  {
   "cell_type": "markdown",
   "id": "06526d15",
   "metadata": {},
   "source": [
    "--->used to extract single value from a collection whereas in indexing we can extract multiple values from collection."
   ]
  },
  {
   "cell_type": "code",
   "execution_count": 33,
   "id": "f0fe8c4e",
   "metadata": {},
   "outputs": [
    {
     "name": "stdout",
     "output_type": "stream",
     "text": [
      "yhn\n",
      "yhn\n",
      "nohtyp\n"
     ]
    }
   ],
   "source": [
    "s = \"python\"\n",
    "print(s[-5::2])\n",
    "print(s[1:6:2])\n",
    "print(s[::-1])"
   ]
  },
  {
   "cell_type": "markdown",
   "id": "4588b2ed",
   "metadata": {},
   "source": [
    "# Control Statement"
   ]
  },
  {
   "cell_type": "markdown",
   "id": "3afce3ab",
   "metadata": {},
   "source": [
    "--->  used to control the flow of the program"
   ]
  },
  {
   "cell_type": "markdown",
   "id": "e2d3a39c",
   "metadata": {},
   "source": [
    "two types:"
   ]
  },
  {
   "cell_type": "markdown",
   "id": "fc25b8b9",
   "metadata": {},
   "source": [
    "----> conditional statments (if , elif, else, match case)"
   ]
  },
  {
   "cell_type": "markdown",
   "id": "02fd4850",
   "metadata": {},
   "source": [
    "---->looping statments(for , while)"
   ]
  },
  {
   "cell_type": "code",
   "execution_count": 35,
   "id": "86128d9a",
   "metadata": {},
   "outputs": [
    {
     "name": "stdout",
     "output_type": "stream",
     "text": [
      "done\n"
     ]
    }
   ],
   "source": [
    "a = int(input())\n",
    "if 10 <= a <= 99 or -99 <= a <= -10:\n",
    "    print(\"done\")\n",
    "else:\n",
    "    print(\"fail\")\n"
   ]
  },
  {
   "cell_type": "markdown",
   "id": "f4a01b74",
   "metadata": {},
   "source": [
    "Nested IF"
   ]
  },
  {
   "cell_type": "code",
   "execution_count": 41,
   "id": "4afeecf8",
   "metadata": {},
   "outputs": [
    {
     "name": "stdout",
     "output_type": "stream",
     "text": [
      "divisible by 5\n"
     ]
    }
   ],
   "source": [
    "a = int(input())\n",
    "if (a%7==0 ):\n",
    "    if (a%5==0 ):\n",
    "        print(\"divisible by 7 and 5\")\n",
    "    else:\n",
    "        print(\"only divisible by 7\")\n",
    "else :\n",
    "    if (a%5==0 ):\n",
    "        print(\"divisible by 5\")\n",
    "    else:\n",
    "        print(\"not divisible \")                "
   ]
  }
 ],
 "metadata": {
  "kernelspec": {
   "display_name": "python_capgemini",
   "language": "python",
   "name": "python3"
  },
  "language_info": {
   "codemirror_mode": {
    "name": "ipython",
    "version": 3
   },
   "file_extension": ".py",
   "mimetype": "text/x-python",
   "name": "python",
   "nbconvert_exporter": "python",
   "pygments_lexer": "ipython3",
   "version": "3.11.11"
  }
 },
 "nbformat": 4,
 "nbformat_minor": 5
}

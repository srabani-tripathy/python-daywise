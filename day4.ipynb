{
 "cells": [
  {
   "cell_type": "code",
   "execution_count": 5,
   "id": "8c54ad19",
   "metadata": {},
   "outputs": [
    {
     "name": "stdout",
     "output_type": "stream",
     "text": [
      "[300, 200, 1]\n"
     ]
    }
   ],
   "source": [
    "l=[1,67,46,10]\n",
    "l[1:4]=[200,300]\n",
    "print(l[::-1])"
   ]
  },
  {
   "cell_type": "markdown",
   "id": "01799c12",
   "metadata": {},
   "source": [
    "In slicing if n value is more than the length of list then it will print to the last without throwing any error"
   ]
  },
  {
   "cell_type": "markdown",
   "id": "ea0b34ac",
   "metadata": {},
   "source": [
    "slicing is used to update multiple values whereas indexing is used to update single value"
   ]
  }
 ],
 "metadata": {
  "kernelspec": {
   "display_name": "python_capgemini",
   "language": "python",
   "name": "python3"
  },
  "language_info": {
   "codemirror_mode": {
    "name": "ipython",
    "version": 3
   },
   "file_extension": ".py",
   "mimetype": "text/x-python",
   "name": "python",
   "nbconvert_exporter": "python",
   "pygments_lexer": "ipython3",
   "version": "3.11.11"
  }
 },
 "nbformat": 4,
 "nbformat_minor": 5
}

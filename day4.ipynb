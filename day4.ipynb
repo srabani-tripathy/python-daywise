{
 "cells": [
  {
   "cell_type": "code",
   "execution_count": 5,
   "id": "8c54ad19",
   "metadata": {},
   "outputs": [
    {
     "name": "stdout",
     "output_type": "stream",
     "text": [
      "[300, 200, 1]\n"
     ]
    }
   ],
   "source": [
    "l=[1,67,46,10]\n",
    "l[1:4]=[200,300]\n",
    "print(l[::-1])"
   ]
  },
  {
   "cell_type": "markdown",
   "id": "01799c12",
   "metadata": {},
   "source": [
    "In slicing if n value is more than the length of list then it will print to the last without throwing any error"
   ]
  },
  {
   "cell_type": "markdown",
   "id": "ea0b34ac",
   "metadata": {},
   "source": [
    "slicing is used to update multiple values whereas indexing is used to update single value"
   ]
  },
  {
   "cell_type": "code",
   "execution_count": 6,
   "id": "29bb5c01",
   "metadata": {},
   "outputs": [
    {
     "name": "stdout",
     "output_type": "stream",
     "text": [
      "[10]\n"
     ]
    }
   ],
   "source": [
    "l=[1,67,46,10]\n",
    "del l[0:3]\n",
    "print(l)"
   ]
  },
  {
   "cell_type": "code",
   "execution_count": 8,
   "id": "9cdc416f",
   "metadata": {},
   "outputs": [
    {
     "name": "stdout",
     "output_type": "stream",
     "text": [
      "4\n",
      "1 67 46 10 "
     ]
    }
   ],
   "source": [
    "l=[1,67,46,10]\n",
    "print(len(l))\n",
    "for i in l:\n",
    "    print(i,end=\" \")"
   ]
  },
  {
   "cell_type": "code",
   "execution_count": 11,
   "id": "ebf4a8b6",
   "metadata": {},
   "outputs": [
    {
     "name": "stdout",
     "output_type": "stream",
     "text": [
      "4\n",
      "1\n",
      "67\n",
      "46\n",
      "10\n"
     ]
    }
   ],
   "source": [
    "l=[1,67,46,10]\n",
    "print(len(l))\n",
    "for i in range(len(l)):\n",
    "    print(l[i])"
   ]
  },
  {
   "cell_type": "code",
   "execution_count": 14,
   "id": "ee8bed1d",
   "metadata": {},
   "outputs": [
    {
     "name": "stdout",
     "output_type": "stream",
     "text": [
      "even\n"
     ]
    }
   ],
   "source": [
    "print([\"even\",\"odd\"][int(input(\"enter a number:\"))%2])"
   ]
  },
  {
   "cell_type": "markdown",
   "id": "eb9670e8",
   "metadata": {},
   "source": [
    "remove the duplicate values in the list and store the unique values in separate list"
   ]
  },
  {
   "cell_type": "code",
   "execution_count": 24,
   "id": "d4ec2084",
   "metadata": {},
   "outputs": [
    {
     "name": "stdout",
     "output_type": "stream",
     "text": [
      "The actual list : ['1', '2', '2', '3']\n",
      "the unique list is : ['1', '2', '3']\n"
     ]
    }
   ],
   "source": [
    "user_list=[]\n",
    "a=int(input(\"enetr the length of list\"))\n",
    "for _ in range(a):\n",
    "    item = input()\n",
    "    user_list +=[item]\n",
    "\n",
    "unique_list=[]\n",
    "for item in user_list:\n",
    "    if item not in unique_list:\n",
    "        unique_list += [item]\n",
    "print(\"The actual list :\", user_list)        \n",
    "print(\"the unique list is :\",unique_list)            \n",
    "\n",
    "\n",
    "\n",
    "\n",
    "\n",
    "\n"
   ]
  },
  {
   "cell_type": "code",
   "execution_count": null,
   "id": "7fc55de5",
   "metadata": {},
   "outputs": [],
   "source": [
    "#take list from user input. count how many numbers end with 7 and 8. should take only one variable to count "
   ]
  },
  {
   "cell_type": "markdown",
   "id": "277b28b7",
   "metadata": {},
   "source": [
    "count numbers ending with 7 and 8"
   ]
  },
  {
   "cell_type": "code",
   "execution_count": 30,
   "id": "1e3838e1",
   "metadata": {},
   "outputs": [
    {
     "name": "stdout",
     "output_type": "stream",
     "text": [
      "Count of numbers ending with 7: 2\n",
      "Count of numbers ending with 8: 2\n",
      "the actual list: ['1', '7', '2', '7', '3', '8', '4', '8', '6', '5']\n"
     ]
    }
   ],
   "source": [
    "list=[]\n",
    "a=int(input(\"enter the length of the list\"))\n",
    "count =[0,0]\n",
    "for _ in range(a):\n",
    "    item =input(\"enter the list\")\n",
    "    list += item\n",
    "    last_digit = item[len(item)-1]\n",
    "    if last_digit == \"7\":\n",
    "        count[0] = count[0] + 1  \n",
    "    elif last_digit == \"8\":\n",
    "        count[1] = count[1] + 1  \n",
    "print(\"Count of numbers ending with 7:\", count[0])\n",
    "print(\"Count of numbers ending with 8:\", count[1])\n",
    "\n",
    "print(\"the actual list:\",list)    \n",
    "    \n"
   ]
  },
  {
   "cell_type": "markdown",
   "id": "3084b20f",
   "metadata": {},
   "source": [
    "Prime Number"
   ]
  },
  {
   "cell_type": "code",
   "execution_count": 37,
   "id": "99e09ff3",
   "metadata": {},
   "outputs": [
    {
     "name": "stdout",
     "output_type": "stream",
     "text": [
      "composite\n"
     ]
    }
   ],
   "source": [
    "l=[]\n",
    "n =int(input(\"enter the length of the list\"))\n",
    "for i in range(1,n+1):\n",
    "    if n%i == 0:\n",
    "        l+=[i]\n",
    "if len(l)==2:\n",
    "    print(\"prime number\")\n",
    "else:\n",
    "    print(\"composite\")            \n",
    "        \n",
    "\n"
   ]
  },
  {
   "cell_type": "code",
   "execution_count": 9,
   "id": "af50734d",
   "metadata": {},
   "outputs": [
    {
     "name": "stdout",
     "output_type": "stream",
     "text": [
      "The last digit 2 is **prime**.\n",
      "The last digit 3 is **prime**.\n",
      "The last digit 4 is **not prime**.\n",
      "The last digit 5 is **prime**.\n"
     ]
    }
   ],
   "source": [
    "l = []\n",
    "n = int(input(\"Enter number of values: \"))\n",
    "for i in range(1, n + 1):\n",
    "    item = int(input(\"Enter the values: \"))\n",
    "    l.append(item)  # Store numbers properly\n",
    "    last_digit = int(str(item)[-1])  # Extract last digit correctly\n",
    "\n",
    "    # Checking if the last digit is prime\n",
    "    if last_digit < 2:\n",
    "        print(f\"The last digit {last_digit} is **not prime**.\")\n",
    "    else:\n",
    "        is_prime = True\n",
    "        for j in range(2, int(last_digit ** 0.5) + 1):\n",
    "            if last_digit % j == 0:\n",
    "                is_prime = False\n",
    "                break\n",
    "        \n",
    "        if is_prime:\n",
    "            print(f\"The last digit {last_digit} is **prime**.\")\n",
    "        else:\n",
    "            print(f\"The last digit {last_digit} is **not prime**.\")"
   ]
  },
  {
   "cell_type": "markdown",
   "id": "d310fb94",
   "metadata": {},
   "source": [
    "## KEYWORD"
   ]
  },
  {
   "cell_type": "markdown",
   "id": "d937f559",
   "metadata": {},
   "source": [
    "### Clear"
   ]
  },
  {
   "cell_type": "code",
   "execution_count": 58,
   "id": "67859205",
   "metadata": {},
   "outputs": [
    {
     "name": "stdout",
     "output_type": "stream",
     "text": [
      "None 1\n"
     ]
    }
   ],
   "source": [
    "l=[1,2,3,4]\n",
    "res = l.clear()\n",
    "print(res,1)"
   ]
  },
  {
   "cell_type": "markdown",
   "id": "0bb58145",
   "metadata": {},
   "source": [
    "Return type of clear is NONE ."
   ]
  },
  {
   "cell_type": "markdown",
   "id": "f9f6b50b",
   "metadata": {},
   "source": [
    "### Copy"
   ]
  },
  {
   "cell_type": "markdown",
   "id": "f58d3d1d",
   "metadata": {},
   "source": [
    "if any upadate we perform in copy list that will not affect the original list\n"
   ]
  },
  {
   "cell_type": "code",
   "execution_count": 56,
   "id": "7607cf4e",
   "metadata": {},
   "outputs": [
    {
     "name": "stdout",
     "output_type": "stream",
     "text": [
      "[10, 20, 30, 40]\n",
      "[10, 20, 30, 40]\n",
      "[10, 20, 30, 40]\n"
     ]
    }
   ],
   "source": [
    "l =[10,20,30,40]\n",
    "copyofl = l.copy()\n",
    "print(l)\n",
    "print(copyofl)\n",
    "copyofl[2]=100\n",
    "print(l)"
   ]
  },
  {
   "cell_type": "markdown",
   "id": "e433d01c",
   "metadata": {},
   "source": [
    "### Shallow copy"
   ]
  },
  {
   "cell_type": "markdown",
   "id": "d9397b6e",
   "metadata": {},
   "source": [
    "if any updation in nested value in copy list it affect the original list so it called shallow copy."
   ]
  },
  {
   "cell_type": "code",
   "execution_count": 57,
   "id": "75521cd9",
   "metadata": {},
   "outputs": [
    {
     "name": "stdout",
     "output_type": "stream",
     "text": [
      "[10, 20, [100, 200, 300]]\n",
      "[10, 20, [100, 200, 300]]\n",
      "[10, 20, [500, 200, 300]]\n",
      "[10, 20, [500, 200, 300]]\n"
     ]
    }
   ],
   "source": [
    "l=[10,20,[100,200,300]]\n",
    "copyofl=l.copy()\n",
    "print(l)\n",
    "print(copyofl)\n",
    "copyofl[2][0]=500\n",
    "print(l)\n",
    "print(copyofl)"
   ]
  },
  {
   "cell_type": "markdown",
   "id": "70e0a61a",
   "metadata": {},
   "source": [
    "### Append\n"
   ]
  },
  {
   "cell_type": "markdown",
   "id": "8142e54e",
   "metadata": {},
   "source": [
    "----> it accepts only one argument.\n",
    "----> the return type of append is NONE."
   ]
  },
  {
   "cell_type": "code",
   "execution_count": 2,
   "id": "702681f0",
   "metadata": {},
   "outputs": [
    {
     "name": "stdout",
     "output_type": "stream",
     "text": [
      "[1, 2, 3, 4, [46, 46, 76]] None\n"
     ]
    }
   ],
   "source": [
    "l=[1,2,3,4]\n",
    "res=l.append([46,46,76])\n",
    "print(l,res)\n"
   ]
  },
  {
   "cell_type": "markdown",
   "id": "938643db",
   "metadata": {},
   "source": [
    "### Insert"
   ]
  },
  {
   "cell_type": "markdown",
   "id": "61610fcc",
   "metadata": {},
   "source": [
    "insert accepts only two arguments i.e : index and value   ----> return type of INSTERT is NONE"
   ]
  },
  {
   "cell_type": "code",
   "execution_count": 6,
   "id": "c0357cfb",
   "metadata": {},
   "outputs": [
    {
     "name": "stdout",
     "output_type": "stream",
     "text": [
      "[1, 2, 3, 4, 1000]\n"
     ]
    }
   ],
   "source": [
    "l=[1,2,3,4]\n",
    "l.insert(12,1000)\n",
    "print(l)"
   ]
  },
  {
   "cell_type": "markdown",
   "id": "d91264ba",
   "metadata": {},
   "source": [
    "### Extend"
   ]
  },
  {
   "cell_type": "markdown",
   "id": "61d2c22a",
   "metadata": {},
   "source": [
    "it will add the extended list to the last"
   ]
  },
  {
   "cell_type": "code",
   "execution_count": 10,
   "id": "7161d7e0",
   "metadata": {},
   "outputs": [
    {
     "name": "stdout",
     "output_type": "stream",
     "text": [
      "[1, 2, 3, 4, 'ipl', 'csk']\n"
     ]
    }
   ],
   "source": [
    "l=[1,2,3,4,]\n",
    "s=[\"ipl\",\"csk\"]\n",
    "l.extend(s)\n",
    "print(l)"
   ]
  },
  {
   "cell_type": "markdown",
   "id": "304a6d2a",
   "metadata": {},
   "source": [
    "### POP"
   ]
  },
  {
   "cell_type": "markdown",
   "id": "711c0705",
   "metadata": {},
   "source": [
    "we can remove the values of index( by default it will remove the last value of the list)"
   ]
  },
  {
   "cell_type": "markdown",
   "id": "0d072023",
   "metadata": {},
   "source": [
    "it will return the  value that is removed"
   ]
  },
  {
   "cell_type": "markdown",
   "id": "468e44aa",
   "metadata": {},
   "source": [
    "we can give the specific index to remove"
   ]
  },
  {
   "cell_type": "markdown",
   "id": "d13a0006",
   "metadata": {},
   "source": [
    "in DELETE() e can remove multiple values using slicing but in POP() we can remove only specific index value"
   ]
  },
  {
   "cell_type": "markdown",
   "id": "4bf6cabb",
   "metadata": {},
   "source": [
    "whereas REMOVE() is used toremove only specific value. unlike del and pop instead of putting the index we have to put the value that we want to remove"
   ]
  },
  {
   "cell_type": "code",
   "execution_count": 14,
   "id": "dadb9ee7",
   "metadata": {},
   "outputs": [
    {
     "name": "stdout",
     "output_type": "stream",
     "text": [
      "[1, 2, 'ipl']\n"
     ]
    }
   ],
   "source": [
    "l=[1,2,3,'ipl']\n",
    "l.pop(2)\n",
    "print(l)"
   ]
  },
  {
   "cell_type": "code",
   "execution_count": 12,
   "id": "5edef550",
   "metadata": {},
   "outputs": [
    {
     "name": "stdout",
     "output_type": "stream",
     "text": [
      "[1, 2, 3]\n"
     ]
    }
   ],
   "source": [
    "l=[1,2,3,'ipl']\n",
    "l.pop()\n",
    "print(l)"
   ]
  },
  {
   "cell_type": "markdown",
   "id": "51a5dbf3",
   "metadata": {},
   "source": [
    "### REMOVE"
   ]
  },
  {
   "cell_type": "markdown",
   "id": "89c4985a",
   "metadata": {},
   "source": [
    "we have to pass value that we want to remove from the list.we can remove only one value"
   ]
  },
  {
   "cell_type": "markdown",
   "id": "325a17e3",
   "metadata": {},
   "source": [
    "whereas REMOVE() is used toremove only specific value. unlike del and pop instead of putting the index we have to put the value that we want to remove"
   ]
  },
  {
   "cell_type": "code",
   "execution_count": 20,
   "id": "96462f3a",
   "metadata": {},
   "outputs": [
    {
     "name": "stdout",
     "output_type": "stream",
     "text": [
      "[2, 3, 'ipl']\n"
     ]
    }
   ],
   "source": [
    "l=[1,2,3,'ipl']\n",
    "l.remove(1)\n",
    "print(l)"
   ]
  },
  {
   "cell_type": "markdown",
   "id": "3787cc44",
   "metadata": {},
   "source": [
    "### Count"
   ]
  },
  {
   "cell_type": "markdown",
   "id": "4ab417e7",
   "metadata": {},
   "source": [
    "used to count the no. of occurance of value in the list. return type is integer"
   ]
  },
  {
   "cell_type": "code",
   "execution_count": 21,
   "id": "3f90c2ae",
   "metadata": {},
   "outputs": [
    {
     "name": "stdout",
     "output_type": "stream",
     "text": [
      "3\n"
     ]
    }
   ],
   "source": [
    "l=[1,1,2,3,4,5,5,5]\n",
    "res=l.count(5)\n",
    "print(res)"
   ]
  },
  {
   "cell_type": "markdown",
   "id": "10475bec",
   "metadata": {},
   "source": [
    "### INDEX"
   ]
  },
  {
   "cell_type": "markdown",
   "id": "c08a85a7",
   "metadata": {},
   "source": [
    "with the help of index() we can get the index of particular value. return type is integer"
   ]
  },
  {
   "cell_type": "markdown",
   "id": "135ab5d9",
   "metadata": {},
   "source": [
    "it will search the value and return the index for the first occurence after that it will not search"
   ]
  },
  {
   "cell_type": "code",
   "execution_count": null,
   "id": "e8a18545",
   "metadata": {},
   "outputs": [
    {
     "name": "stdout",
     "output_type": "stream",
     "text": [
      "2\n"
     ]
    }
   ],
   "source": [
    "l=[1,1,1,2,3,4,5,3]\n",
    "#res = l.index(value,start index,end index)\n",
    "res=l.index(1,2,5)\n",
    "print(res)"
   ]
  },
  {
   "cell_type": "markdown",
   "id": "9e4d7989",
   "metadata": {},
   "source": [
    "### REVERSE()"
   ]
  },
  {
   "cell_type": "markdown",
   "id": "d57748ac",
   "metadata": {},
   "source": [
    "return type is NONE"
   ]
  },
  {
   "cell_type": "code",
   "execution_count": 24,
   "id": "9e77a427",
   "metadata": {},
   "outputs": [
    {
     "name": "stdout",
     "output_type": "stream",
     "text": [
      "[4, 3, 2, 1]\n"
     ]
    }
   ],
   "source": [
    "l=[1,2,3,4]\n",
    "l.reverse()\n",
    "print(l)"
   ]
  },
  {
   "cell_type": "markdown",
   "id": "b3bee527",
   "metadata": {},
   "source": [
    "### SORT()"
   ]
  },
  {
   "cell_type": "markdown",
   "id": "50c76657",
   "metadata": {},
   "source": [
    "used to sort the values on asec or desc"
   ]
  },
  {
   "cell_type": "code",
   "execution_count": 25,
   "id": "1306842e",
   "metadata": {},
   "outputs": [
    {
     "name": "stdout",
     "output_type": "stream",
     "text": [
      "[1, 1, 1, 2, 3, 3, 4, 5]\n"
     ]
    }
   ],
   "source": [
    "l=[1,1,1,2,3,4,5,3]\n",
    "l.sort()\n",
    "print(l)"
   ]
  },
  {
   "cell_type": "code",
   "execution_count": null,
   "id": "2f3484e7",
   "metadata": {},
   "outputs": [
    {
     "name": "stdout",
     "output_type": "stream",
     "text": [
      "['hi', 3, 10, 1, 2]\n"
     ]
    }
   ],
   "source": [
    "l=[10,1,2,\"hi\",3]\n",
    "k=int(input(\"enter the rotstion\"))\n",
    "k%=len(l)\n",
    "l = l[-k:] + l[:-k]\n",
    "print(l)  "
   ]
  },
  {
   "cell_type": "code",
   "execution_count": 30,
   "id": "c8e0315c",
   "metadata": {},
   "outputs": [
    {
     "name": "stdout",
     "output_type": "stream",
     "text": [
      "[2, 'hi', 3, 10, 1]\n"
     ]
    }
   ],
   "source": [
    "l=[10,1,2,\"hi\",3]\n",
    "k=int(input(\"enter rotation number\"))\n",
    "k%=len(l)\n",
    "l = l[k:] + l[:k]\n",
    "print(l)  "
   ]
  },
  {
   "cell_type": "markdown",
   "id": "0a709530",
   "metadata": {},
   "source": [
    "### DIFFERENCE BETWEEN LIST AND TUPLE"
   ]
  },
  {
   "cell_type": "markdown",
   "id": "ce12dcaa",
   "metadata": {},
   "source": [
    "### LIST"
   ]
  },
  {
   "cell_type": "markdown",
   "id": "85cc6e16",
   "metadata": {},
   "source": [
    "mutable"
   ]
  },
  {
   "cell_type": "markdown",
   "id": "7a2aae1a",
   "metadata": {},
   "source": [
    "slower than tuple"
   ]
  },
  {
   "cell_type": "markdown",
   "id": "68afebe1",
   "metadata": {},
   "source": [
    "### TUPLE"
   ]
  },
  {
   "cell_type": "markdown",
   "id": "f6dd7991",
   "metadata": {},
   "source": [
    "immutable"
   ]
  },
  {
   "cell_type": "markdown",
   "id": "76ce1100",
   "metadata": {},
   "source": [
    "it is faster than list."
   ]
  },
  {
   "cell_type": "markdown",
   "id": "bd409381",
   "metadata": {},
   "source": [
    "single value is not possible in tuple so we have to put one comma if we want to give only one value"
   ]
  },
  {
   "cell_type": "code",
   "execution_count": null,
   "id": "c40b097f",
   "metadata": {},
   "outputs": [
    {
     "name": "stdout",
     "output_type": "stream",
     "text": [
      "(10,) <class 'tuple'>\n",
      "(1, 2, 3, 1, 4, 5)\n"
     ]
    }
   ],
   "source": [
    "t=(10,)\n",
    "t1=1,2,3\n",
    "print(t,type(t))\n",
    "t1+=1,4,5\n",
    "print(t1)"
   ]
  },
  {
   "cell_type": "code",
   "execution_count": 49,
   "id": "05a1374a",
   "metadata": {},
   "outputs": [
    {
     "name": "stdout",
     "output_type": "stream",
     "text": [
      "3\n"
     ]
    },
    {
     "data": {
      "text/plain": [
       "4"
      ]
     },
     "execution_count": 49,
     "metadata": {},
     "output_type": "execute_result"
    }
   ],
   "source": [
    "t1=1,1,1,2,3\n",
    "print(t1.count(1))\n",
    "t1.index(3)"
   ]
  },
  {
   "cell_type": "markdown",
   "id": "ee4fedf0",
   "metadata": {},
   "source": [
    "### SET"
   ]
  },
  {
   "cell_type": "markdown",
   "id": "8bd3d874",
   "metadata": {},
   "source": [
    "unordered collection, doesn't support duplicate value, doesn't suppoet indexing and slicing"
   ]
  },
  {
   "cell_type": "markdown",
   "id": "85ccadd1",
   "metadata": {},
   "source": [
    "set is mutable collection"
   ]
  },
  {
   "cell_type": "markdown",
   "id": "656412a2",
   "metadata": {},
   "source": [
    "we can use only for loop iterable method."
   ]
  },
  {
   "cell_type": "code",
   "execution_count": null,
   "id": "c19ef730",
   "metadata": {},
   "outputs": [
    {
     "name": "stdout",
     "output_type": "stream",
     "text": [
      "{1, 2, 100, 5000, 'hi'}\n",
      "<class 'dict'>\n",
      "<class 'set'>\n"
     ]
    }
   ],
   "source": [
    "f={}  #empty dictonary\n",
    "g=set() #empty set\n",
    "s={1,100,2,1,5000,\"hi\",True}\n",
    "print(s)\n",
    "print(type(f))\n",
    "print(type(g))\n"
   ]
  },
  {
   "cell_type": "code",
   "execution_count": 59,
   "id": "e8163b48",
   "metadata": {},
   "outputs": [
    {
     "name": "stdout",
     "output_type": "stream",
     "text": [
      "{1, 2, 3, 100, 4, 5, 5000, 'hi'}\n",
      "{1, 2, 3, 100, 4, 5, 5000, 'hi'}\n"
     ]
    }
   ],
   "source": [
    "s={1,100,2,1,5000,\"hi\",True}\n",
    "s1={1,2,3,4,5}\n",
    "res=s.union(s1)\n",
    "print(res)\n",
    "#upadate()\n",
    "s.update(s1)\n",
    "print(s)"
   ]
  },
  {
   "cell_type": "code",
   "execution_count": null,
   "id": "4d76a0a8",
   "metadata": {},
   "outputs": [
    {
     "name": "stdout",
     "output_type": "stream",
     "text": [
      "{1, 2}\n",
      "{2, 3, 100, 4, 5, 5000, 'hi'}\n"
     ]
    }
   ],
   "source": [
    "s={1,100,2,1,5000,\"hi\",True}\n",
    "s1={1,2,3,4,5}\n",
    "res=s.intersection(s1)\n",
    "print(res)\n",
    "#upadate()\n",
    "s.update(s1)\n",
    "print(s)"
   ]
  },
  {
   "cell_type": "markdown",
   "id": "b442deab",
   "metadata": {},
   "source": [
    "### discard()"
   ]
  },
  {
   "cell_type": "markdown",
   "id": "300b19a5",
   "metadata": {},
   "source": [
    "removes particular element but pop() in set removes random element"
   ]
  },
  {
   "cell_type": "code",
   "execution_count": 66,
   "id": "5e4e074e",
   "metadata": {},
   "outputs": [
    {
     "name": "stdout",
     "output_type": "stream",
     "text": [
      "1\n",
      "None {2, 100, 5000, 'hi'}\n"
     ]
    }
   ],
   "source": [
    "s={1,100,2,1,5000,\"hi\",True}\n",
    "s1={1,2,3,4,5}\n",
    "res=s.pop()\n",
    "print(res)\n",
    "res=s.discard(1)\n",
    "print(res,s)"
   ]
  }
 ],
 "metadata": {
  "kernelspec": {
   "display_name": "python_capgemini",
   "language": "python",
   "name": "python3"
  },
  "language_info": {
   "codemirror_mode": {
    "name": "ipython",
    "version": 3
   },
   "file_extension": ".py",
   "mimetype": "text/x-python",
   "name": "python",
   "nbconvert_exporter": "python",
   "pygments_lexer": "ipython3",
   "version": "3.11.11"
  }
 },
 "nbformat": 4,
 "nbformat_minor": 5
}

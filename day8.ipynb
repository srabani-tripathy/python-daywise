{
 "cells": [
  {
   "cell_type": "markdown",
   "id": "d5a8d0f1",
   "metadata": {},
   "source": [
    "## Recursion"
   ]
  },
  {
   "cell_type": "code",
   "execution_count": 2,
   "id": "2c74a0da",
   "metadata": {},
   "outputs": [
    {
     "name": "stdout",
     "output_type": "stream",
     "text": [
      "120\n"
     ]
    }
   ],
   "source": [
    "def fact(n):\n",
    "    if n==0 or n==1:\n",
    "        return 1\n",
    "    return n * fact(n-1)\n",
    "print(fact(5))    \n"
   ]
  },
  {
   "cell_type": "markdown",
   "id": "1b01c325",
   "metadata": {},
   "source": [
    "wap a program for fibonacci series using recursion"
   ]
  },
  {
   "cell_type": "code",
   "execution_count": 6,
   "id": "5b0c706a",
   "metadata": {},
   "outputs": [
    {
     "name": "stdout",
     "output_type": "stream",
     "text": [
      "0\n",
      "1\n",
      "1\n",
      "2\n",
      "3\n"
     ]
    }
   ],
   "source": [
    "def fib(n,m={}):\n",
    "    if n in m:\n",
    "        return m[n]\n",
    "    if n<=1:\n",
    "        return n\n",
    "    m[n] = fib(n-1, m) + fib(n-2, m)\n",
    "    return m[n]\n",
    "\n",
    "for i in range(5):\n",
    "    print(fib(i))       "
   ]
  },
  {
   "cell_type": "markdown",
   "id": "4dd34d03",
   "metadata": {},
   "source": [
    "## Anonymous fun(lambda)"
   ]
  },
  {
   "cell_type": "markdown",
   "id": "cadf924a",
   "metadata": {},
   "source": [
    "we can create the function in a single line using lambda function"
   ]
  },
  {
   "cell_type": "markdown",
   "id": "4ef14595",
   "metadata": {},
   "source": [
    "we can use this only for small tasks"
   ]
  },
  {
   "cell_type": "code",
   "execution_count": null,
   "id": "236d5dc4",
   "metadata": {},
   "outputs": [],
   "source": [
    "''' syntax:-\n",
    "var = lambda args: expression\n",
    "'''"
   ]
  },
  {
   "cell_type": "code",
   "execution_count": 8,
   "id": "738e632a",
   "metadata": {},
   "outputs": [
    {
     "name": "stdout",
     "output_type": "stream",
     "text": [
      "100\n"
     ]
    }
   ],
   "source": [
    "var = lambda X:X**2\n",
    "print(var(10))"
   ]
  },
  {
   "cell_type": "code",
   "execution_count": 9,
   "id": "b4886762",
   "metadata": {},
   "outputs": [
    {
     "name": "stdout",
     "output_type": "stream",
     "text": [
      "01\n"
     ]
    }
   ],
   "source": [
    "var = lambda X:str(X)[::-1]\n",
    "print(var(10))"
   ]
  },
  {
   "cell_type": "code",
   "execution_count": 14,
   "id": "fd4765bc",
   "metadata": {},
   "outputs": [
    {
     "name": "stdout",
     "output_type": "stream",
     "text": [
      "HEL\n"
     ]
    }
   ],
   "source": [
    "var1 = lambda s:s[0:3:].upper()\n",
    "print(var1(\"helloooo\"))"
   ]
  },
  {
   "cell_type": "code",
   "execution_count": 16,
   "id": "d72d317f",
   "metadata": {},
   "outputs": [
    {
     "name": "stdout",
     "output_type": "stream",
     "text": [
      "Even\n"
     ]
    }
   ],
   "source": [
    "num = lambda n:\"Even\" if n%2 == 0 else \"odd\"\n",
    "print(num(10))"
   ]
  },
  {
   "cell_type": "code",
   "execution_count": 26,
   "id": "d220064e",
   "metadata": {},
   "outputs": [
    {
     "name": "stdout",
     "output_type": "stream",
     "text": [
      "[('d', 20), ('A', 30), ('C', 40)]\n"
     ]
    }
   ],
   "source": [
    "d= {'A':30,'d':20,'C':40}\n",
    "s = d.items()\n",
    "print(sorted(s, key = lambda x:x[1]))"
   ]
  },
  {
   "cell_type": "code",
   "execution_count": null,
   "id": "c1fb38db",
   "metadata": {},
   "outputs": [
    {
     "name": "stdout",
     "output_type": "stream",
     "text": [
      "[('C', 40), ('A', 30), ('d', 20)]\n"
     ]
    }
   ],
   "source": [
    "d= {'A':30,'d':20,'C':40}\n",
    "s = d.items()\n",
    "print(sorted(s, key = lambda x:x[1] , reverse = True))"
   ]
  },
  {
   "cell_type": "code",
   "execution_count": 32,
   "id": "6c58ecad",
   "metadata": {},
   "outputs": [
    {
     "name": "stdout",
     "output_type": "stream",
     "text": [
      "('C', 40)\n"
     ]
    }
   ],
   "source": [
    "d= {'A':30,'d':20,'C':40}\n",
    "s = d.items()\n",
    "print(max(s, key = lambda x:x[1] ))"
   ]
  },
  {
   "cell_type": "markdown",
   "id": "72a530ac",
   "metadata": {},
   "source": [
    "## Map()  "
   ]
  },
  {
   "cell_type": "markdown",
   "id": "08ed0d5c",
   "metadata": {},
   "source": [
    "returns same length of list with some modification"
   ]
  },
  {
   "cell_type": "markdown",
   "id": "7f569500",
   "metadata": {},
   "source": [
    "it extracts values from the collection one by one "
   ]
  },
  {
   "cell_type": "markdown",
   "id": "6d9d7e1f",
   "metadata": {},
   "source": [
    "we cannot access the map() directly . so we have to use typecasting"
   ]
  },
  {
   "cell_type": "code",
   "execution_count": 44,
   "id": "55176af9",
   "metadata": {},
   "outputs": [
    {
     "name": "stdout",
     "output_type": "stream",
     "text": [
      "[3, 4, 5, 6]\n"
     ]
    }
   ],
   "source": [
    "l=[1,2,3,4]\n",
    "f= lambda x:x+2\n",
    "print(list(map(f,l)))"
   ]
  },
  {
   "cell_type": "code",
   "execution_count": 60,
   "id": "79595dfe",
   "metadata": {},
   "outputs": [
    {
     "name": "stdout",
     "output_type": "stream",
     "text": [
      "['SOom', 'KHusi', 'TEesha']\n"
     ]
    }
   ],
   "source": [
    "l=input(\"enter the string\").split()\n",
    "f= lambda s:s[:2].upper() + s[2:].lower()\n",
    "print(list(map(f,l)))"
   ]
  },
  {
   "cell_type": "markdown",
   "id": "561aabe3",
   "metadata": {},
   "source": [
    "## Filter()"
   ]
  },
  {
   "cell_type": "markdown",
   "id": "a69ebe7e",
   "metadata": {},
   "source": [
    "we can filter the values from collection "
   ]
  },
  {
   "cell_type": "code",
   "execution_count": 66,
   "id": "cc806c57",
   "metadata": {},
   "outputs": [
    {
     "name": "stdout",
     "output_type": "stream",
     "text": [
      "[2, 4]\n"
     ]
    }
   ],
   "source": [
    "l=[1,2,3,4]\n",
    "f= lambda   x: not x%2 \n",
    "print(list(filter(f,l)))"
   ]
  },
  {
   "cell_type": "code",
   "execution_count": 67,
   "id": "52ec624c",
   "metadata": {},
   "outputs": [
    {
     "name": "stdout",
     "output_type": "stream",
     "text": [
      "[1, 3]\n"
     ]
    }
   ],
   "source": [
    "l=[1,2,3,4]\n",
    "f= lambda   x:x%2 \n",
    "print(list(filter(f,l)))"
   ]
  },
  {
   "cell_type": "code",
   "execution_count": 78,
   "id": "083b2041",
   "metadata": {},
   "outputs": [
    {
     "name": "stdout",
     "output_type": "stream",
     "text": [
      "[1, 2, 3, -1]\n"
     ]
    }
   ],
   "source": [
    "l = [2.0, 'abc', 1, 2, 3,-1] \n",
    "f = lambda x: type(x) == int \n",
    "print(list(filter(f, l)))"
   ]
  },
  {
   "cell_type": "markdown",
   "id": "76f42508",
   "metadata": {},
   "source": [
    "## OOPS"
   ]
  },
  {
   "cell_type": "code",
   "execution_count": 79,
   "id": "a277c11c",
   "metadata": {},
   "outputs": [
    {
     "name": "stdout",
     "output_type": "stream",
     "text": [
      "<class 'list'>\n"
     ]
    }
   ],
   "source": [
    "print(type([10,3]))"
   ]
  },
  {
   "cell_type": "markdown",
   "id": "35e5de5b",
   "metadata": {},
   "source": [
    "### class blueprint"
   ]
  },
  {
   "cell_type": "code",
   "execution_count": null,
   "id": "c11a71fe",
   "metadata": {},
   "outputs": [],
   "source": [
    "#class(blueprint):-\n",
    "#attributes/property:-\n",
    "#1) states/variables\n",
    "#class , instance variables:-\n",
    "#2) methods:-\n",
    "#i) class method\n",
    "#ii) instance method:-\n",
    "#1) normal instance method\n",
    "#2) special /magic instance methods\n",
    "#iii) static method"
   ]
  },
  {
   "cell_type": "code",
   "execution_count": null,
   "id": "8db6233d",
   "metadata": {},
   "outputs": [
    {
     "name": "stdout",
     "output_type": "stream",
     "text": [
      "27\n"
     ]
    }
   ],
   "source": [
    "#class creation:\n",
    "class kiit:\n",
    "    pass\n",
    "obj =kiit()  # object created for class kiit\n",
    "print(len(dir(obj)))"
   ]
  },
  {
   "cell_type": "code",
   "execution_count": null,
   "id": "761de3ac",
   "metadata": {},
   "outputs": [
    {
     "name": "stdout",
     "output_type": "stream",
     "text": [
      "<__main__.new object at 0x0000020F10D9CB10> 10\n",
      "<__main__.new object at 0x0000020F11350790> 23\n"
     ]
    }
   ],
   "source": [
    "# object creation with values:\n",
    "class new:\n",
    "    def __init__(self,a):# __init__ is a special / magic instance method\n",
    "        print(self,a)\n",
    "obj = new(10)\n",
    "obj1 = new(23)        "
   ]
  },
  {
   "cell_type": "code",
   "execution_count": null,
   "id": "42036d1f",
   "metadata": {},
   "outputs": [
    {
     "name": "stdout",
     "output_type": "stream",
     "text": [
      "10 10\n",
      "23 23\n",
      "10\n",
      "New class\n"
     ]
    }
   ],
   "source": [
    "class new:\n",
    "    var_c = \"New class\" # class variable will automatically load to the memory when class is created\n",
    "    def __init__(self,a):\n",
    "        self.a = a # method veriable  will execute once object is created. it is stored inside the object\n",
    "        print(a,self.a)  # self is storing the object address\n",
    "    #print(a,self.a)  it is not possible to access method variable outside the method\n",
    "obj = new(10)\n",
    "obj1 = new(23)  \n",
    "print(obj.a) # both class variable and object/method variable can be accessed outside the class\n",
    "print(obj.var_c)"
   ]
  },
  {
   "cell_type": "code",
   "execution_count": 96,
   "id": "c7ef796f",
   "metadata": {},
   "outputs": [
    {
     "name": "stdout",
     "output_type": "stream",
     "text": [
      "name:srabani\n",
      "Reg no:1111222222222\n"
     ]
    }
   ],
   "source": [
    "class stud_detail:\n",
    "    name = \"students details\"\n",
    "    def __init__(self,name,regno):\n",
    "        self.name = name \n",
    "        self.regno = regno\n",
    "    def get_details(self):\n",
    "        print(f\"name:{self.name}\\nReg no:{self.regno}\")\n",
    "    def upadte(self, name ):\n",
    "        self.name = name\n",
    "obj = stud_detail(\"srabani\", 1111222222222)\n",
    "obj.get_details()                "
   ]
  },
  {
   "cell_type": "markdown",
   "id": "8edc5e90",
   "metadata": {},
   "source": [
    "create class for instagram . create 3 methods follow , unfollow and details . first initialise the username and password  to  3 create account . after that do follow operration (i.e). after that display the count of followers."
   ]
  },
  {
   "cell_type": "code",
   "execution_count": null,
   "id": "bc0652fa",
   "metadata": {},
   "outputs": [
    {
     "name": "stdout",
     "output_type": "stream",
     "text": [
      "username :srabani\n",
      "Followers: 1\n",
      "username :Abc\n",
      "Followers: 1\n",
      "username :aBc\n",
      "Followers: 1\n"
     ]
    }
   ],
   "source": [
    "class instagram:\n",
    "    def __init__(self,username , password):\n",
    "        self.username = username\n",
    "        self.password = password\n",
    "        self.followers = 0\n",
    "    def follow(self):\n",
    "        self.followers += 1\n",
    "\n",
    "    def unfollow(self):\n",
    "        if self.followers > 0:\n",
    "            self.followers -= 1\n",
    "        else:\n",
    "            print(\"No followers to remove.\")\n",
    "    def details(self):   \n",
    "        print(f\"username :{self.username}\")\n",
    "        print(f\"Followers: {self.followers}\")\n",
    "\n",
    "\n",
    "account1 = instagram (input(\"enter username \"), input(\"enter password\"))\n",
    "account2 = instagram (input(\"enter username \"), input(\"enter password\"))\n",
    "account3 = instagram (input(\"enter username \"), input(\"enter password\"))\n",
    "\n",
    "account1.follow()\n",
    "account2.follow()\n",
    "account3.follow()\n",
    "\n",
    "account1.details()\n",
    "account2.details()\n",
    "account3.details()"
   ]
  }
 ],
 "metadata": {
  "kernelspec": {
   "display_name": "python_capgemini",
   "language": "python",
   "name": "python3"
  },
  "language_info": {
   "codemirror_mode": {
    "name": "ipython",
    "version": 3
   },
   "file_extension": ".py",
   "mimetype": "text/x-python",
   "name": "python",
   "nbconvert_exporter": "python",
   "pygments_lexer": "ipython3",
   "version": "3.11.11"
  }
 },
 "nbformat": 4,
 "nbformat_minor": 5
}

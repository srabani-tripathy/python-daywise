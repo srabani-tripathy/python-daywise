{
 "cells": [
  {
   "cell_type": "markdown",
   "id": "dfc530ca",
   "metadata": {},
   "source": [
    "Student Grade Calculator Write a Python program that:\n",
    "\n",
    "Takes a list of student scores as input Uses a function to calculate the average Uses control statements to assign letter grades (A: 90+, B: 80-89, C: 70-79, D: 60-69, F: <60) Returns a dictionary with student numbers as keys and their grades as values\n",
    "Example Input: [95, 87, 76, 64, 45]\n",
    "\n",
    "Expected Output: {1: 'A', 2: 'B', 3: 'C', 4: 'D', 5: 'F'}"
   ]
  },
  {
   "cell_type": "code",
   "execution_count": 43,
   "id": "75a12b49",
   "metadata": {},
   "outputs": [
    {
     "name": "stdout",
     "output_type": "stream",
     "text": [
      "grades {87: 'B', 95: 'A', 97: 'A', 76: 'C', 64: 'D', 45: 'F'}\n",
      "avg score 77.33333333333333\n"
     ]
    }
   ],
   "source": [
    "scores =[87,95,97,76,64,45]\n",
    "def cal_avg():\n",
    "    return sum(scores) / len(scores)\n",
    "\n",
    "def  cal_grade(score):\n",
    "    grade={}\n",
    "    for score in scores:\n",
    "        if score>=90:\n",
    "            grade[score] = 'A'\n",
    "        elif score >= 80:\n",
    "            grade[score] = 'B'\n",
    "        elif score >= 70:\n",
    "            grade[score] = 'C'\n",
    "        elif score >= 60:\n",
    "            grade[score] = 'D'\n",
    "        else:\n",
    "            grade[score] = 'F' \n",
    "    return grade    \n",
    "print(\"grades\",cal_grade(scores))\n",
    "print(\"avg score\", cal_avg())\n"
   ]
  },
  {
   "cell_type": "markdown",
   "id": "68906ab5",
   "metadata": {},
   "source": [
    "Shopping Cart System Create a shopping cart system that:\n",
    "\n",
    "Uses a dictionary to store items and their prices Implements functions to add_item(), remove_item(), and calculate_total() Uses control statements to apply discounts (10% if total > $100, 5% if total > $50) Handles the case when trying to remove non-existent items\n",
    "Example: Cart with items worth $120 should apply 10% discount."
   ]
  },
  {
   "cell_type": "code",
   "execution_count": null,
   "id": "1d98a580",
   "metadata": {},
   "outputs": [
    {
     "name": "stdout",
     "output_type": "stream",
     "text": [
      "Added laptop ($40) to the cart.\n",
      "Added Mouse ($20) to the cart.\n",
      "Added Keyboard ($30) to the cart.\n",
      "Headphones not found\n",
      "total price 90\n",
      "discount applied 4.5\n",
      "Final bill 85.5\n"
     ]
    }
   ],
   "source": [
    "cart={}\n",
    "def add_item(item,price):\n",
    "    cart[item]=price\n",
    "    print(f\"Added {item} (${price}) to the cart.\")\n",
    "\n",
    "def remove_item(item):\n",
    "    if item in cart:\n",
    "        del [item]\n",
    "    else:\n",
    "        print(f\"{item} not found\")    \n",
    "def calculate_total():\n",
    "    total=sum(cart.values())\n",
    "    discount =0\n",
    "    if total > 100:\n",
    "        discount = 0.10 * total\n",
    "    elif total > 50:\n",
    "        discount = 0.05 * total\n",
    "\n",
    "    final = total - discount\n",
    "    print(\"total price\", total)\n",
    "    print(\"discount applied\", discount)\n",
    "    print(\"Final bill\",final)\n",
    "\n",
    "add_item(\"laptop\", 40)\n",
    "add_item(\"Mouse\", 20)\n",
    "add_item(\"Keyboard\", 30)\n",
    "remove_item(\"Headphones\") \n",
    "calculate_total()       \n"
   ]
  },
  {
   "cell_type": "markdown",
   "id": "d8f98885",
   "metadata": {},
   "source": [
    "Password Validator Write a function that validates passwords based on these rules:\n",
    "\n",
    "Length between 8-16 characters \n",
    "Contains at least one uppercase letter \n",
    "Contains at least one lowercase letter \n",
    "Contains at least one digit \n",
    "Contains at least one special character (!@#$%^&*) Use control statements to check each condition and return appropriate messages\n",
    "Test with: \"Password123!\", \"pass\", \"PASSWORD123!\", \"Password\""
   ]
  },
  {
   "cell_type": "code",
   "execution_count": 36,
   "id": "9bab9bb8",
   "metadata": {},
   "outputs": [
    {
     "name": "stdout",
     "output_type": "stream",
     "text": [
      "Password is valid.\n",
      "Password must be between 8 and 16 characters long.\n",
      "Password must contain at least one lowercase letter.\n",
      "Password must contain at least one digit.\n"
     ]
    }
   ],
   "source": [
    "def val_password(password):\n",
    "    spc_char = \"!@#$%^&*\"\n",
    "    \n",
    "    if len(password) < 8 or len(password) > 16:\n",
    "        return \"Password must be between 8 and 16 characters long.\"\n",
    "    \n",
    "    upper = False\n",
    "    lower = False\n",
    "    digit = False\n",
    "    special = False\n",
    "    for char in password:\n",
    "        if char.isupper():\n",
    "            upper = True\n",
    "        elif char.islower():\n",
    "            lower = True\n",
    "        elif char.isdigit():\n",
    "            digit = True\n",
    "        elif char in spc_char:\n",
    "            special = True\n",
    "    \n",
    "    if not upper:\n",
    "        return \"Password must contain at least one uppercase letter.\"\n",
    "    if not lower:\n",
    "        return \"Password must contain at least one lowercase letter.\"\n",
    "    if not digit:\n",
    "        return \"Password must contain at least one digit.\"\n",
    "    if not special:\n",
    "        return \"Password must contain at least one special character (!@#$%^&*).\"\n",
    "    \n",
    "    return \"Password is valid.\"\n",
    "\n",
    "print(val_password(\"Password123!\"))  \n",
    "print(val_password(\"pass\"))          \n",
    "print(val_password(\"PASSWORD123!\"))  \n",
    "print(val_password(\"Password\"))      "
   ]
  }
 ],
 "metadata": {
  "kernelspec": {
   "display_name": "python_capgemini",
   "language": "python",
   "name": "python3"
  },
  "language_info": {
   "codemirror_mode": {
    "name": "ipython",
    "version": 3
   },
   "file_extension": ".py",
   "mimetype": "text/x-python",
   "name": "python",
   "nbconvert_exporter": "python",
   "pygments_lexer": "ipython3",
   "version": "3.11.11"
  }
 },
 "nbformat": 4,
 "nbformat_minor": 5
}

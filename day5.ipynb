{
 "cells": [
  {
   "cell_type": "markdown",
   "id": "b74995e9",
   "metadata": {},
   "source": [
    "### ADD()"
   ]
  },
  {
   "cell_type": "markdown",
   "id": "58e8c922",
   "metadata": {},
   "source": [
    "adds values to the set------>return type is none"
   ]
  },
  {
   "cell_type": "code",
   "execution_count": 11,
   "id": "a46a604e",
   "metadata": {},
   "outputs": [
    {
     "name": "stdout",
     "output_type": "stream",
     "text": [
      "{1, 3, 1001, 'hi', 'abbb'}\n"
     ]
    }
   ],
   "source": [
    "s={1,\"hi\",3}\n",
    "s.add(\"abbb\")\n",
    "s.add(1001)\n",
    "print(s)"
   ]
  },
  {
   "cell_type": "markdown",
   "id": "77f77649",
   "metadata": {},
   "source": [
    "### ISDISJOINT()"
   ]
  },
  {
   "cell_type": "markdown",
   "id": "aefe028b",
   "metadata": {},
   "source": [
    "if common element are present it will return FALSE . --------->if commomn element is not present it willl return TRUE"
   ]
  },
  {
   "cell_type": "code",
   "execution_count": 87,
   "id": "bbc99000",
   "metadata": {},
   "outputs": [
    {
     "name": "stdout",
     "output_type": "stream",
     "text": [
      "True\n"
     ]
    }
   ],
   "source": [
    "s1={1,2,3,4,5,\"hi\"}\n",
    "s2={10,20,30,40,50,\"hi\"}\n",
    "s3={100,200,300,400}\n",
    "res=s1.isdisjoint(s3)\n",
    "print(res)"
   ]
  },
  {
   "cell_type": "markdown",
   "id": "beac5f21",
   "metadata": {},
   "source": [
    "### clear() and copy()"
   ]
  },
  {
   "cell_type": "markdown",
   "id": "fe66b281",
   "metadata": {},
   "source": [
    "same work flow as it was in list"
   ]
  },
  {
   "cell_type": "markdown",
   "id": "22b9d238",
   "metadata": {},
   "source": [
    "### issubset()"
   ]
  },
  {
   "cell_type": "markdown",
   "id": "200d1f7a",
   "metadata": {},
   "source": [
    "it starts with s1 ---->return type is boolean"
   ]
  },
  {
   "cell_type": "code",
   "execution_count": 7,
   "id": "1f4cf269",
   "metadata": {},
   "outputs": [
    {
     "name": "stdout",
     "output_type": "stream",
     "text": [
      "False\n"
     ]
    }
   ],
   "source": [
    "s1={10,20,30,40}\n",
    "s2={10,20,30,40,50,\"hi\"}\n",
    "s3={100,200,300,400}\n",
    "res=s3.issubset(s1)\n",
    "print(res)"
   ]
  },
  {
   "cell_type": "code",
   "execution_count": 8,
   "id": "f4c53238",
   "metadata": {},
   "outputs": [
    {
     "name": "stdout",
     "output_type": "stream",
     "text": [
      "True\n"
     ]
    }
   ],
   "source": [
    "s1={10,20,30,40}\n",
    "s2={10,20,30,40,50,\"hi\"}\n",
    "s3={100,200,300,400}\n",
    "res=s1.issubset(s2)\n",
    "print(res)"
   ]
  },
  {
   "cell_type": "markdown",
   "id": "f80689f2",
   "metadata": {},
   "source": [
    "### issuperset()"
   ]
  },
  {
   "cell_type": "markdown",
   "id": "97503c64",
   "metadata": {},
   "source": [
    "return type is boolean"
   ]
  },
  {
   "cell_type": "code",
   "execution_count": 10,
   "id": "0cf812b1",
   "metadata": {},
   "outputs": [
    {
     "name": "stdout",
     "output_type": "stream",
     "text": [
      "True\n"
     ]
    }
   ],
   "source": [
    "s1={10,20,30,40}\n",
    "s2={10,20,30}\n",
    "s3={100,200,300,400}\n",
    "res=s1.issuperset(s2)\n",
    "print(res)"
   ]
  },
  {
   "cell_type": "markdown",
   "id": "bf8dcb9c",
   "metadata": {},
   "source": [
    "### DIFFERENCE_UPDATE()"
   ]
  },
  {
   "cell_type": "markdown",
   "id": "b91ed3e8",
   "metadata": {},
   "source": [
    "It will remove the common elements in the two lists and after removal return the elemts from s "
   ]
  },
  {
   "cell_type": "markdown",
   "id": "5dff8898",
   "metadata": {},
   "source": [
    "return type is none"
   ]
  },
  {
   "cell_type": "code",
   "execution_count": 16,
   "id": "4e4f3397",
   "metadata": {},
   "outputs": [
    {
     "name": "stdout",
     "output_type": "stream",
     "text": [
      "{1}\n"
     ]
    }
   ],
   "source": [
    "s={10,20,30,40}\n",
    "s1={10,20,1}\n",
    "s1.difference_update(s)\n",
    "print(s1)"
   ]
  },
  {
   "cell_type": "markdown",
   "id": "e47be660",
   "metadata": {},
   "source": [
    "### symmetric_difference()"
   ]
  },
  {
   "cell_type": "markdown",
   "id": "752a8383",
   "metadata": {},
   "source": [
    "it will remove common elemnts later it will combine both sets together"
   ]
  },
  {
   "cell_type": "markdown",
   "id": "6ffb80c4",
   "metadata": {},
   "source": [
    "return type is none"
   ]
  },
  {
   "cell_type": "code",
   "execution_count": 15,
   "id": "5da8ae13",
   "metadata": {},
   "outputs": [
    {
     "name": "stdout",
     "output_type": "stream",
     "text": [
      "{1, 40, 30}\n"
     ]
    }
   ],
   "source": [
    "s={10,20,30,40}\n",
    "s1={10,20,1}\n",
    "res=s.symmetric_difference(s1)\n",
    "print(res)"
   ]
  },
  {
   "cell_type": "markdown",
   "id": "189f471a",
   "metadata": {},
   "source": [
    "### remove and discard"
   ]
  },
  {
   "cell_type": "markdown",
   "id": "7c360714",
   "metadata": {},
   "source": [
    "discard and remove both are used to remove only one value. but discard will work even if the value is not present in the list wheras remove will throw an error."
   ]
  },
  {
   "cell_type": "code",
   "execution_count": 20,
   "id": "8d052dc8",
   "metadata": {},
   "outputs": [
    {
     "name": "stdout",
     "output_type": "stream",
     "text": [
      "{40, 20, 30}\n"
     ]
    }
   ],
   "source": [
    "s={10,20,30,40}\n",
    "s1={10,20,1}\n",
    "s.remove(10)\n",
    "print(s)"
   ]
  },
  {
   "cell_type": "code",
   "execution_count": 19,
   "id": "53f4040f",
   "metadata": {},
   "outputs": [
    {
     "name": "stdout",
     "output_type": "stream",
     "text": [
      "{40, 20, 30}\n"
     ]
    }
   ],
   "source": [
    "s={10,20,30,40}\n",
    "s1={10,20,1}\n",
    "s.discard(10)\n",
    "print(s)"
   ]
  },
  {
   "cell_type": "markdown",
   "id": "f5fdfa80",
   "metadata": {},
   "source": [
    "typecasting"
   ]
  },
  {
   "cell_type": "code",
   "execution_count": 23,
   "id": "d4ab135a",
   "metadata": {},
   "outputs": [
    {
     "name": "stdout",
     "output_type": "stream",
     "text": [
      "{10, 20, 30}\n",
      "[10, 20, 30]\n"
     ]
    }
   ],
   "source": [
    "l=[10,20,30]\n",
    "print(set(l))\n",
    "print(list(set(l)))"
   ]
  },
  {
   "cell_type": "code",
   "execution_count": 25,
   "id": "9f4b537a",
   "metadata": {},
   "outputs": [
    {
     "name": "stdout",
     "output_type": "stream",
     "text": [
      "40 10 20 30 "
     ]
    }
   ],
   "source": [
    "s={10,20,30,30,40}\n",
    "for i in s:\n",
    "    print(i,end=\" \")"
   ]
  },
  {
   "cell_type": "markdown",
   "id": "919011ed",
   "metadata": {},
   "source": [
    "take one list from user side and print the frequency of values"
   ]
  },
  {
   "cell_type": "code",
   "execution_count": 29,
   "id": "8ad9a484",
   "metadata": {},
   "outputs": [
    {
     "name": "stdout",
     "output_type": "stream",
     "text": [
      "10: 1\n",
      "20: 3\n",
      "30: 2\n"
     ]
    }
   ],
   "source": [
    "user_input = input(\"Enter numbers separated by spaces: \")\n",
    "numbers = []\n",
    "num = \"\"\n",
    "for char in user_input:\n",
    "    if \"0\" <= char <= \"9\":\n",
    "        num += char\n",
    "    else:\n",
    "        if num:\n",
    "            numbers.append(int(num))\n",
    "            num = \"\"\n",
    "\n",
    "if num:\n",
    "    numbers.append(int(num))\n",
    "\n",
    "unique_numbers = set(numbers)\n",
    "for num in unique_numbers:\n",
    "    print(f\"{num}: {numbers.count(num)}\")"
   ]
  },
  {
   "cell_type": "code",
   "execution_count": 62,
   "id": "d9c1b1df",
   "metadata": {},
   "outputs": [
    {
     "name": "stdout",
     "output_type": "stream",
     "text": [
      "{1, 2, 3} : [3, 2, 4]\n",
      "4\n"
     ]
    }
   ],
   "source": [
    "l=[2,2,1,1,1,3,3,3,3]\n",
    "res=[]\n",
    "copy = set(l)\n",
    "for i in copy:\n",
    "        res+=[l.count(i)]        \n",
    "max_f =max(res)\n",
    "print(f\"{copy} : {res}\") \n",
    "print(max_f)      "
   ]
  },
  {
   "cell_type": "markdown",
   "id": "7c752054",
   "metadata": {},
   "source": [
    "take one set from user side and print maximum integer value"
   ]
  },
  {
   "cell_type": "code",
   "execution_count": null,
   "id": "40a10892",
   "metadata": {},
   "outputs": [
    {
     "name": "stdout",
     "output_type": "stream",
     "text": [
      "Maximum value: 30\n"
     ]
    }
   ],
   "source": [
    "user_input = input(\"Enter unique numbers separated by spaces: \")\n",
    "s = set()  \n",
    "num = \"\"\n",
    "for char in user_input:\n",
    "    if \"0\" <= char <= \"9\":  \n",
    "        num += char\n",
    "    else:\n",
    "        if num:\n",
    "            s.add(int(num))  \n",
    "            num = \"\"\n",
    "if num:  \n",
    "    s.add(int(num))\n",
    "\n",
    "print(\"Maximum value:\", max(s))"
   ]
  },
  {
   "cell_type": "markdown",
   "id": "df0bbd76",
   "metadata": {},
   "source": [
    "## Dictionary"
   ]
  },
  {
   "cell_type": "markdown",
   "id": "adc36fb3",
   "metadata": {},
   "source": [
    "return type is list of tuple"
   ]
  },
  {
   "cell_type": "markdown",
   "id": "e5c04fe7",
   "metadata": {},
   "source": [
    "value stored in key value format"
   ]
  },
  {
   "cell_type": "markdown",
   "id": "11dbc7f3",
   "metadata": {},
   "source": [
    "it ia an ordered collection"
   ]
  },
  {
   "cell_type": "markdown",
   "id": "a468418f",
   "metadata": {},
   "source": [
    "it is a mutable collection"
   ]
  },
  {
   "cell_type": "markdown",
   "id": "ae168c92",
   "metadata": {},
   "source": [
    "keys can accept all immutable data types"
   ]
  },
  {
   "cell_type": "markdown",
   "id": "7d235d60",
   "metadata": {},
   "source": [
    "it doesn't support indexing"
   ]
  },
  {
   "cell_type": "markdown",
   "id": "871bfc35",
   "metadata": {},
   "source": [
    "keys cannot be duplicate but values can\n",
    "--------/. in case keys are duplicate it will take the last key value "
   ]
  },
  {
   "cell_type": "code",
   "execution_count": null,
   "id": "591c8980",
   "metadata": {},
   "outputs": [
    {
     "name": "stdout",
     "output_type": "stream",
     "text": [
      "{1: 40, 2: 20, 3: 30}\n"
     ]
    }
   ],
   "source": [
    "#example of duplicate keys\n",
    "d={1:10,2:20,3:30,1:40}\n",
    "print(d)"
   ]
  },
  {
   "cell_type": "code",
   "execution_count": 81,
   "id": "8d9d220e",
   "metadata": {},
   "outputs": [
    {
     "name": "stdout",
     "output_type": "stream",
     "text": [
      "10\n",
      "{}\n"
     ]
    }
   ],
   "source": [
    "d={}\n",
    "d1={1:10,2:20,3:30,4:40}\n",
    "print(d1[1])\n",
    "print(d)"
   ]
  },
  {
   "cell_type": "markdown",
   "id": "94d7b93c",
   "metadata": {},
   "source": [
    "update"
   ]
  },
  {
   "cell_type": "markdown",
   "id": "e5f9ce00",
   "metadata": {},
   "source": [
    "if the key is present it will update the value."
   ]
  },
  {
   "cell_type": "code",
   "execution_count": 82,
   "id": "d7f74dd7",
   "metadata": {},
   "outputs": [
    {
     "name": "stdout",
     "output_type": "stream",
     "text": [
      "{1: 10, 2: 1000, 3: 30, 4: 40}\n"
     ]
    }
   ],
   "source": [
    "d1={1:10,2:20,3:30,4:40}\n",
    "d1[2]=1000\n",
    "print(d1)"
   ]
  },
  {
   "cell_type": "markdown",
   "id": "7af5be45",
   "metadata": {},
   "source": [
    "if key isn't present it will add a new key, value pair"
   ]
  },
  {
   "cell_type": "code",
   "execution_count": 83,
   "id": "6a0aaaf9",
   "metadata": {},
   "outputs": [
    {
     "name": "stdout",
     "output_type": "stream",
     "text": [
      "{1: 10, 2: 20, 3: 30, 4: 40, 10: 1000}\n"
     ]
    }
   ],
   "source": [
    "d1={1:10,2:20,3:30,4:40}\n",
    "d1[10]=1000\n",
    "print(d1)"
   ]
  },
  {
   "cell_type": "code",
   "execution_count": 85,
   "id": "c43e90eb",
   "metadata": {},
   "outputs": [
    {
     "name": "stdout",
     "output_type": "stream",
     "text": [
      "final dictionary {'20': '200', '10': '100', '30': '300'}\n"
     ]
    }
   ],
   "source": [
    "d={}\n",
    "s=int(input(\"enter the number of keys\"))\n",
    "for _ in range(s):\n",
    "    a=input(\"enter the key value\")\n",
    "    b=input(\"enter value\")\n",
    "    d[a]=b\n",
    "print(\"final dictionary\",d)    \n"
   ]
  },
  {
   "cell_type": "code",
   "execution_count": 99,
   "id": "8f105e58",
   "metadata": {},
   "outputs": [
    {
     "name": "stdout",
     "output_type": "stream",
     "text": [
      "1\n",
      "2\n",
      "3\n"
     ]
    }
   ],
   "source": [
    "#for loop iterable method\n",
    "d={1:1000,2:2000,3:3000}\n",
    "for i in d:   \n",
    "    print(i)   # it will only print the keys if we do for loop on dict."
   ]
  },
  {
   "cell_type": "code",
   "execution_count": 98,
   "id": "d3f443d8",
   "metadata": {},
   "outputs": [
    {
     "name": "stdout",
     "output_type": "stream",
     "text": [
      "1 1000\n",
      "2 2000\n",
      "3 3000\n"
     ]
    }
   ],
   "source": [
    "#for loop iterable method\n",
    "d={1:1000,2:2000,3:3000}\n",
    "for i in d:   \n",
    "    print(i,d[i])  # it will only print the keys and values if we do for loop on dict."
   ]
  },
  {
   "cell_type": "code",
   "execution_count": 102,
   "id": "a17bcd92",
   "metadata": {},
   "outputs": [
    {
     "name": "stdout",
     "output_type": "stream",
     "text": [
      "1 1000\n",
      "2 2000\n",
      "3 3000\n",
      "<class 'dict_items'>\n"
     ]
    }
   ],
   "source": [
    "d={1:1000,2:2000,3:3000}\n",
    "for i,j in d.items():\n",
    "    print(i,j)\n",
    "print(type(d.items()))    \n",
    "\n"
   ]
  },
  {
   "cell_type": "markdown",
   "id": "fb3ede9e",
   "metadata": {},
   "source": [
    "### keys()"
   ]
  },
  {
   "cell_type": "markdown",
   "id": "41877e14",
   "metadata": {},
   "source": [
    "used to extract keys from dictionary"
   ]
  },
  {
   "cell_type": "code",
   "execution_count": 103,
   "id": "e1c3daa8",
   "metadata": {},
   "outputs": [
    {
     "name": "stdout",
     "output_type": "stream",
     "text": [
      "dict_keys([1, 2, 3])\n"
     ]
    }
   ],
   "source": [
    "d={1:1000,2:2000,3:3000}\n",
    "print(d.keys())"
   ]
  },
  {
   "cell_type": "markdown",
   "id": "26ecf314",
   "metadata": {},
   "source": [
    "### values()"
   ]
  },
  {
   "cell_type": "markdown",
   "id": "92dc9373",
   "metadata": {},
   "source": [
    "used to extract values from dictionary"
   ]
  },
  {
   "cell_type": "code",
   "execution_count": 105,
   "id": "8a7b2690",
   "metadata": {},
   "outputs": [
    {
     "name": "stdout",
     "output_type": "stream",
     "text": [
      "dict_values([1000, 2000, 3000])\n"
     ]
    }
   ],
   "source": [
    "d={1:1000,2:2000,3:3000}\n",
    "print(d.values())"
   ]
  },
  {
   "cell_type": "markdown",
   "id": "95c0f05d",
   "metadata": {},
   "source": [
    "### Get()"
   ]
  },
  {
   "cell_type": "markdown",
   "id": "1895292a",
   "metadata": {},
   "source": [
    "helps to get the values based on keys"
   ]
  },
  {
   "cell_type": "code",
   "execution_count": 106,
   "id": "57020b50",
   "metadata": {},
   "outputs": [
    {
     "name": "stdout",
     "output_type": "stream",
     "text": [
      "1000\n"
     ]
    }
   ],
   "source": [
    "d={1:1000,2:2000,3:3000}\n",
    "print(d.get(1))"
   ]
  },
  {
   "cell_type": "code",
   "execution_count": 108,
   "id": "b14949f5",
   "metadata": {},
   "outputs": [
    {
     "name": "stdout",
     "output_type": "stream",
     "text": [
      "values not present\n"
     ]
    }
   ],
   "source": [
    "d={1:1000,2:2000,3:3000}\n",
    "print(d.get(100,\"values not present\"))"
   ]
  },
  {
   "cell_type": "markdown",
   "id": "783ce823",
   "metadata": {},
   "source": [
    "if key is not present in the dict like we tried for 100 , we can print a message for the same "
   ]
  },
  {
   "cell_type": "markdown",
   "id": "271845b9",
   "metadata": {},
   "source": [
    "### Pop()"
   ]
  },
  {
   "cell_type": "code",
   "execution_count": 111,
   "id": "451adaba",
   "metadata": {},
   "outputs": [
    {
     "name": "stdout",
     "output_type": "stream",
     "text": [
      "1000 {2: 2000, 3: 3000}\n"
     ]
    }
   ],
   "source": [
    "d={1:1000,2:2000,3:3000}\n",
    "res=d.pop(1)\n",
    "print(res,d)"
   ]
  },
  {
   "cell_type": "code",
   "execution_count": 112,
   "id": "829f9a8f",
   "metadata": {},
   "outputs": [
    {
     "name": "stdout",
     "output_type": "stream",
     "text": [
      "key is not present {1: 1000, 2: 2000, 3: 3000}\n"
     ]
    }
   ],
   "source": [
    "d={1:1000,2:2000,3:3000}\n",
    "res=d.pop(10,\"key is not present\")  # if key is not present we can give this kind of error message\n",
    "print(res,d)"
   ]
  },
  {
   "cell_type": "markdown",
   "id": "c175442e",
   "metadata": {},
   "source": [
    "### Popitem()"
   ]
  },
  {
   "cell_type": "code",
   "execution_count": null,
   "id": "655ddd59",
   "metadata": {},
   "outputs": [
    {
     "name": "stdout",
     "output_type": "stream",
     "text": [
      "(3, 3000) {1: 1000, 2: 2000}\n"
     ]
    }
   ],
   "source": [
    "d={1:1000,2:2000,3:3000}\n",
    "res=d.popitem()   # it takes no arguement\n",
    "print(res,d)"
   ]
  },
  {
   "cell_type": "markdown",
   "id": "14f1a92b",
   "metadata": {},
   "source": [
    "### Update()"
   ]
  },
  {
   "cell_type": "markdown",
   "id": "a3cd8643",
   "metadata": {},
   "source": [
    "with the help of upadte we can add multiple new key-value pair to the dict or we upadte the existing key-values"
   ]
  },
  {
   "cell_type": "code",
   "execution_count": 116,
   "id": "1380905f",
   "metadata": {},
   "outputs": [
    {
     "name": "stdout",
     "output_type": "stream",
     "text": [
      "{1: 1000, 2: 200, 3: 300, 4: 100}\n"
     ]
    }
   ],
   "source": [
    "d={1:1000,2:2000,3:3000}\n",
    "d.update({4:100,2:200,3:300})\n",
    "print(d)"
   ]
  },
  {
   "cell_type": "markdown",
   "id": "5bd56ab8",
   "metadata": {},
   "source": [
    "### Setdefault()\n"
   ]
  },
  {
   "cell_type": "markdown",
   "id": "d3495ddd",
   "metadata": {},
   "source": [
    "we can create only one pair using setdefault()"
   ]
  },
  {
   "cell_type": "code",
   "execution_count": null,
   "id": "c343d367",
   "metadata": {},
   "outputs": [
    {
     "name": "stdout",
     "output_type": "stream",
     "text": [
      "{1: 1000, 2: 2000, 3: 3000}\n"
     ]
    }
   ],
   "source": [
    "d={1:1000,2:2000,3:3000}\n",
    "d.setdefault(1,800) # it will not update the values as 1 is already present\n",
    "print(d)"
   ]
  },
  {
   "cell_type": "code",
   "execution_count": 118,
   "id": "353adb2f",
   "metadata": {},
   "outputs": [
    {
     "name": "stdout",
     "output_type": "stream",
     "text": [
      "{1: 1000, 2: 2000, 3: 3000, 16: 800}\n"
     ]
    }
   ],
   "source": [
    "d={1:1000,2:2000,3:3000}\n",
    "d.setdefault(16,800) # it will only update the values \n",
    "print(d)"
   ]
  },
  {
   "cell_type": "markdown",
   "id": "055fd8a2",
   "metadata": {},
   "source": [
    "### Fromkeys()"
   ]
  },
  {
   "cell_type": "markdown",
   "id": "6fe81a59",
   "metadata": {},
   "source": [
    "used to store and reuse"
   ]
  },
  {
   "cell_type": "code",
   "execution_count": 121,
   "id": "fd0f0626",
   "metadata": {},
   "outputs": [
    {
     "name": "stdout",
     "output_type": "stream",
     "text": [
      "{1: 'selected', 2: 'selected', 3: 'selected'}\n"
     ]
    }
   ],
   "source": [
    "d={1:1000,2:2000,3:3000}\n",
    "l=[1,2,3]\n",
    "res=d.fromkeys(l,\"selected\")\n",
    "print(res)"
   ]
  },
  {
   "cell_type": "markdown",
   "id": "e63fa43a",
   "metadata": {},
   "source": [
    "take one dict from user side total 5 pairs. key should be name and values should be marks . (1) highest score and student name . (2) based on score arrange key and value in asec . (3) get one name from user side check the name is already present or not ,if not present  the ask value and upadte that value to the dict.(4) remove least score pair"
   ]
  },
  {
   "cell_type": "code",
   "execution_count": null,
   "id": "fdddec84",
   "metadata": {},
   "outputs": [],
   "source": []
  },
  {
   "cell_type": "markdown",
   "id": "3fbaf0ea",
   "metadata": {},
   "source": [
    "# STRING"
   ]
  },
  {
   "cell_type": "markdown",
   "id": "e977b04c",
   "metadata": {},
   "source": [
    "it supports both indexing and slicing"
   ]
  },
  {
   "cell_type": "code",
   "execution_count": null,
   "id": "5d427e01",
   "metadata": {},
   "outputs": [],
   "source": [
    "s='sdghjk'\n",
    "s='dgrh''fgh' #possible\n",
    "\n",
    "s='dgrh'fgh'   # not possible\n",
    "s=\"dgrh\"fgh\"   # not possible\n"
   ]
  },
  {
   "cell_type": "markdown",
   "id": "5a250e89",
   "metadata": {},
   "source": [
    "it is an ordered collection"
   ]
  },
  {
   "cell_type": "markdown",
   "id": "f83ec1c1",
   "metadata": {},
   "source": [
    "it will support range method"
   ]
  },
  {
   "cell_type": "markdown",
   "id": "a4f6d943",
   "metadata": {},
   "source": [
    "----->take one string from user side and remove all the duplicate values without using set()"
   ]
  },
  {
   "cell_type": "code",
   "execution_count": 129,
   "id": "48d9e006",
   "metadata": {},
   "outputs": [
    {
     "name": "stdout",
     "output_type": "stream",
     "text": [
      "the unique string : KIT\n"
     ]
    }
   ],
   "source": [
    "a =input(\"enter the string\")\n",
    "res=\"\"\n",
    "for char in a:\n",
    "    if char not in res:\n",
    "        res+= char\n",
    "    \n",
    "print(\"the unique string :\" , res)            \n"
   ]
  }
 ],
 "metadata": {
  "kernelspec": {
   "display_name": "python_capgemini",
   "language": "python",
   "name": "python3"
  },
  "language_info": {
   "codemirror_mode": {
    "name": "ipython",
    "version": 3
   },
   "file_extension": ".py",
   "mimetype": "text/x-python",
   "name": "python",
   "nbconvert_exporter": "python",
   "pygments_lexer": "ipython3",
   "version": "3.11.11"
  }
 },
 "nbformat": 4,
 "nbformat_minor": 5
}
